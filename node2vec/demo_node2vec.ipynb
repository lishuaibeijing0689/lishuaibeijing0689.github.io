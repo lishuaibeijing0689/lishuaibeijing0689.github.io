{
 "cells": [
  {
   "cell_type": "code",
   "execution_count": 4,
   "metadata": {},
   "outputs": [],
   "source": [
    "from node2vec.node2vec import Node2Vec\n",
    "import networkx as nx"
   ]
  },
  {
   "cell_type": "code",
   "execution_count": 5,
   "metadata": {},
   "outputs": [],
   "source": [
    "# Create a graph\n",
    "graph = nx.fast_gnp_random_graph(n=100, p=0.5)"
   ]
  },
  {
   "cell_type": "code",
   "execution_count": 6,
   "metadata": {},
   "outputs": [
    {
     "name": "stderr",
     "output_type": "stream",
     "text": [
      "Computing transition probabilities: 100%|██████████| 100/100 [00:00<00:00, 100.48it/s]\n"
     ]
    }
   ],
   "source": [
    "# Precompute probabilities and generate walks - **ON WINDOWS ONLY WORKS WITH workers=1**\n",
    "node2vec = Node2Vec(graph, dimensions=64, walk_length=30, num_walks=200, workers=4)  \n",
    "# Use temp_folder for big graphs"
   ]
  },
  {
   "cell_type": "code",
   "execution_count": 7,
   "metadata": {},
   "outputs": [],
   "source": [
    "# Embed nodes\n",
    "model = node2vec.fit(window=10, min_count=1, batch_words=4)  \n",
    "# Any keywords acceptable by gensim.Word2Vec can be passed, `diemnsions` and `workers` are automatically passed \n",
    "# (from the Node2Vec constructor)"
   ]
  },
  {
   "cell_type": "code",
   "execution_count": 8,
   "metadata": {},
   "outputs": [
    {
     "data": {
      "text/plain": [
       "[('78', 0.45069703459739685),\n",
       " ('53', 0.4263819754123688),\n",
       " ('25', 0.39526891708374023),\n",
       " ('15', 0.34187746047973633),\n",
       " ('86', 0.3408912420272827),\n",
       " ('80', 0.3399275541305542),\n",
       " ('38', 0.30560362339019775),\n",
       " ('28', 0.3055918216705322),\n",
       " ('24', 0.2992168664932251),\n",
       " ('82', 0.2784469425678253)]"
      ]
     },
     "execution_count": 8,
     "metadata": {},
     "output_type": "execute_result"
    }
   ],
   "source": [
    "# Look for most similar nodes\n",
    "model.wv.most_similar('2')  # Output node names are always strings"
   ]
  },
  {
   "cell_type": "code",
   "execution_count": 10,
   "metadata": {},
   "outputs": [],
   "source": [
    "# Save embeddings for later use\n",
    "model.wv.save_word2vec_format(\"embedding_file\")"
   ]
  },
  {
   "cell_type": "code",
   "execution_count": 11,
   "metadata": {},
   "outputs": [],
   "source": [
    "# Save model for later use\n",
    "model.save(\"model_file\")"
   ]
  },
  {
   "cell_type": "code",
   "execution_count": 12,
   "metadata": {},
   "outputs": [],
   "source": [
    "# Embed edges using Hadamard method\n",
    "from node2vec.edges import HadamardEmbedder"
   ]
  },
  {
   "cell_type": "code",
   "execution_count": 13,
   "metadata": {},
   "outputs": [],
   "source": [
    "edges_embs = HadamardEmbedder(keyed_vectors=model.wv)"
   ]
  },
  {
   "cell_type": "code",
   "execution_count": 14,
   "metadata": {},
   "outputs": [
    {
     "data": {
      "text/plain": [
       "array([ 1.96889862e-01, -1.33071318e-01,  2.04915613e-01, -2.49612965e-02,\n",
       "        5.33435773e-03,  1.16884902e-01, -3.21607858e-01, -1.00447796e-01,\n",
       "        3.76990326e-02,  5.03540412e-02, -1.96340263e-01, -9.33590829e-02,\n",
       "        4.43194397e-02, -1.30722416e-03, -6.05317578e-02, -3.76312211e-02,\n",
       "        6.34467751e-02,  3.72853916e-04, -4.91207898e-01,  4.08153981e-02,\n",
       "       -3.44051570e-02,  4.18854179e-03,  8.00325200e-02,  6.23401115e-03,\n",
       "       -6.09638169e-02, -3.94322053e-02,  6.41644523e-02,  4.76401066e-04,\n",
       "       -5.44594862e-02, -4.03299145e-02, -1.82599977e-01, -3.39452982e-01,\n",
       "        1.13826841e-01, -2.54756827e-02, -5.05430857e-03, -3.83691117e-02,\n",
       "       -7.20707141e-03, -5.75409010e-02,  2.77477573e-03, -4.73222844e-02,\n",
       "       -1.21925294e-01, -1.19174481e-03,  1.65126882e-02,  8.16088989e-02,\n",
       "        5.84541932e-02, -4.68405411e-02, -2.38000423e-01,  1.55248940e-01,\n",
       "       -8.12595934e-02,  1.31701981e-03,  9.75284353e-02, -2.34890776e-03,\n",
       "        7.96641689e-04,  4.98094670e-02, -1.00091115e-01,  2.71587074e-01,\n",
       "        1.19488373e-01,  3.58442724e-01, -3.85925523e-03, -4.53577600e-02,\n",
       "       -7.55799115e-02, -8.68809316e-03,  2.71218196e-02,  1.54727697e-01],\n",
       "      dtype=float32)"
      ]
     },
     "execution_count": 14,
     "metadata": {},
     "output_type": "execute_result"
    }
   ],
   "source": [
    "# Look for embeddings on the fly - here we pass normal tuples\n",
    "edges_embs[('1', '2')]"
   ]
  },
  {
   "cell_type": "code",
   "execution_count": 15,
   "metadata": {},
   "outputs": [
    {
     "name": "stderr",
     "output_type": "stream",
     "text": [
      "Generating edge features: 100%|██████████| 5050/5050.0 [00:00<00:00, 157679.43it/s]\n"
     ]
    }
   ],
   "source": [
    "# Get all edges in a separate KeyedVectors instance - use with caution could be huge for big networks\n",
    "edges_kv = edges_embs.as_keyed_vectors()"
   ]
  },
  {
   "cell_type": "code",
   "execution_count": 16,
   "metadata": {},
   "outputs": [
    {
     "data": {
      "text/plain": [
       "[(\"('1', '17')\", 0.574985146522522),\n",
       " (\"('2', '69')\", 0.5632137060165405),\n",
       " (\"('1', '28')\", 0.5548410415649414),\n",
       " (\"('1', '38')\", 0.5189201235771179),\n",
       " (\"('34', '36')\", 0.5127745270729065),\n",
       " (\"('57', '83')\", 0.5032078623771667),\n",
       " (\"('2', '74')\", 0.5019828677177429),\n",
       " (\"('1', '53')\", 0.49857863783836365),\n",
       " (\"('2', '80')\", 0.4959462881088257),\n",
       " (\"('1', '64')\", 0.4956750273704529)]"
      ]
     },
     "execution_count": 16,
     "metadata": {},
     "output_type": "execute_result"
    }
   ],
   "source": [
    "# Look for most similar edges - this time tuples must be sorted and as str\n",
    "edges_kv.most_similar(str(('1', '2')))"
   ]
  },
  {
   "cell_type": "code",
   "execution_count": 17,
   "metadata": {},
   "outputs": [],
   "source": [
    "# Save embeddings for later use\n",
    "edges_kv.save_word2vec_format(\"edge_embedding_file\")"
   ]
  },
  {
   "cell_type": "code",
   "execution_count": null,
   "metadata": {},
   "outputs": [],
   "source": []
  }
 ],
 "metadata": {
  "kernelspec": {
   "display_name": "Python 3",
   "language": "python",
   "name": "python3"
  },
  "language_info": {
   "codemirror_mode": {
    "name": "ipython",
    "version": 3
   },
   "file_extension": ".py",
   "mimetype": "text/x-python",
   "name": "python",
   "nbconvert_exporter": "python",
   "pygments_lexer": "ipython3",
   "version": "3.6.5"
  }
 },
 "nbformat": 4,
 "nbformat_minor": 2
}
