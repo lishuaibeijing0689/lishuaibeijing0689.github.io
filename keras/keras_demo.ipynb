{
 "cells": [
  {
   "cell_type": "code",
   "execution_count": 1,
   "metadata": {},
   "outputs": [
    {
     "data": {
      "text/plain": [
       "'\\nMNIST\\xe6\\x95\\xb0\\xe6\\x8d\\xae\\xe9\\x9b\\x86\\xe5\\x81\\x9adeep learning \\xe7\\x9a\\x84demo\\n'"
      ]
     },
     "execution_count": 1,
     "metadata": {},
     "output_type": "execute_result"
    }
   ],
   "source": [
    "\"\"\"\n",
    "MNIST数据集做deep learning 的demo\n",
    "\n",
    "neural network 与 gbdt lr svm的不同之处在于：训练集上可能就会训练的很差，\n",
    "所以每次要先检查训练集的loss，训练集效果很好后再去验证集做验证\n",
    "\"\"\""
   ]
  },
  {
   "cell_type": "code",
   "execution_count": 1,
   "metadata": {},
   "outputs": [
    {
     "name": "stderr",
     "output_type": "stream",
     "text": [
      "Using TensorFlow backend.\n"
     ]
    }
   ],
   "source": [
    "from keras.datasets import mnist\n",
    "from keras.utils import np_utils\n",
    "from keras.models import Sequential\n",
    "from keras.layers import Conv2D, MaxPooling2D, Flatten\n",
    "from keras.optimizers import SGD, Adam\n",
    "from keras.layers.core import Dense, Dropout, Activation"
   ]
  },
  {
   "cell_type": "code",
   "execution_count": 2,
   "metadata": {},
   "outputs": [],
   "source": [
    "def load_data():\n",
    "    (x_train, y_train), (x_test, y_test) = mnist.load_data(path='/Users/lishuai/Desktop/main/localNotebook/mnist/mnist.npz')\n",
    "    number = 10000\n",
    "    x_train = x_train[0:number]\n",
    "    y_train = y_train[0:number]\n",
    "    x_train = x_train.reshape(number, 28*28)\n",
    "    x_test = x_test.reshape(x_test.shape[0], 28*28)\n",
    "    x_train = x_train.astype('float32')\n",
    "    x_test = x_test.astype('float32')\n",
    "    \n",
    "    y_train = np_utils.to_categorical(y_train, 10)\n",
    "    y_test = np_utils.to_categorical(y_test, 10)\n",
    "    \n",
    "    x_train = x_train / 255  # 注意：这里必须要做归一化  否则效果很差\n",
    "    x_test = x_test / 255\n",
    "    \n",
    "    return (x_train, y_train), (x_test, y_test)"
   ]
  },
  {
   "cell_type": "code",
   "execution_count": 3,
   "metadata": {},
   "outputs": [],
   "source": [
    "(x_train, y_train), (x_test, y_test) = load_data()"
   ]
  },
  {
   "cell_type": "code",
   "execution_count": 4,
   "metadata": {},
   "outputs": [
    {
     "data": {
      "text/plain": [
       "((10000, 784), (10000, 10), (10000, 784), (10000, 10))"
      ]
     },
     "execution_count": 4,
     "metadata": {},
     "output_type": "execute_result"
    }
   ],
   "source": [
    "x_train.shape, y_train.shape, x_test.shape, y_test.shape"
   ]
  },
  {
   "cell_type": "code",
   "execution_count": 5,
   "metadata": {},
   "outputs": [
    {
     "data": {
      "text/plain": [
       "array([0., 0., 0., 0., 0., 1., 0., 0., 0., 0.], dtype=float32)"
      ]
     },
     "execution_count": 5,
     "metadata": {},
     "output_type": "execute_result"
    }
   ],
   "source": [
    "y_train[0]"
   ]
  },
  {
   "cell_type": "markdown",
   "metadata": {},
   "source": [
    "## 不同的激活函数 效果很不同"
   ]
  },
  {
   "cell_type": "code",
   "execution_count": 7,
   "metadata": {
    "scrolled": true
   },
   "outputs": [
    {
     "name": "stdout",
     "output_type": "stream",
     "text": [
      "Epoch 1/20\n",
      "10000/10000 [==============================] - 1s 106us/step - loss: 0.0769 - acc: 0.4436\n",
      "Epoch 2/20\n",
      "10000/10000 [==============================] - 1s 93us/step - loss: 0.0522 - acc: 0.6560\n",
      "Epoch 3/20\n",
      "10000/10000 [==============================] - 1s 96us/step - loss: 0.0386 - acc: 0.7853\n",
      "Epoch 4/20\n",
      "10000/10000 [==============================] - 1s 86us/step - loss: 0.0303 - acc: 0.8417\n",
      "Epoch 5/20\n",
      "10000/10000 [==============================] - 1s 98us/step - loss: 0.0257 - acc: 0.8623\n",
      "Epoch 6/20\n",
      "10000/10000 [==============================] - 1s 92us/step - loss: 0.0229 - acc: 0.8752\n",
      "Epoch 7/20\n",
      "10000/10000 [==============================] - 1s 94us/step - loss: 0.0209 - acc: 0.8835\n",
      "Epoch 8/20\n",
      "10000/10000 [==============================] - 1s 96us/step - loss: 0.0195 - acc: 0.8899\n",
      "Epoch 9/20\n",
      "10000/10000 [==============================] - 1s 95us/step - loss: 0.0185 - acc: 0.8945\n",
      "Epoch 10/20\n",
      "10000/10000 [==============================] - 1s 93us/step - loss: 0.0176 - acc: 0.8992\n",
      "Epoch 11/20\n",
      "10000/10000 [==============================] - 1s 86us/step - loss: 0.0169 - acc: 0.9015\n",
      "Epoch 12/20\n",
      "10000/10000 [==============================] - 1s 85us/step - loss: 0.0163 - acc: 0.9052\n",
      "Epoch 13/20\n",
      "10000/10000 [==============================] - 1s 86us/step - loss: 0.0158 - acc: 0.9063\n",
      "Epoch 14/20\n",
      "10000/10000 [==============================] - 1s 86us/step - loss: 0.0154 - acc: 0.9089\n",
      "Epoch 15/20\n",
      "10000/10000 [==============================] - 1s 86us/step - loss: 0.0150 - acc: 0.9112\n",
      "Epoch 16/20\n",
      "10000/10000 [==============================] - 1s 85us/step - loss: 0.0146 - acc: 0.9126\n",
      "Epoch 17/20\n",
      "10000/10000 [==============================] - 1s 86us/step - loss: 0.0143 - acc: 0.9138\n",
      "Epoch 18/20\n",
      "10000/10000 [==============================] - 1s 87us/step - loss: 0.0140 - acc: 0.9160\n",
      "Epoch 19/20\n",
      "10000/10000 [==============================] - 1s 93us/step - loss: 0.0138 - acc: 0.9174\n",
      "Epoch 20/20\n",
      "10000/10000 [==============================] - 1s 89us/step - loss: 0.0136 - acc: 0.9182\n",
      "10000/10000 [==============================] - 1s 56us/step\n",
      "[0.014707137484289706, 0.9079]\n"
     ]
    }
   ],
   "source": [
    "# tanh\n",
    "model = Sequential()\n",
    "model.add(Dense(input_dim=28*28, units=633, activation='tanh'))\n",
    "model.add(Dense(units=633, activation='tanh'))\n",
    "model.add(Dense(units=633, activation='tanh'))\n",
    "model.add(Dense(units=10, activation='softmax'))\n",
    "\n",
    "model.compile(loss='mse', optimizer=SGD(lr=0.1), metrics=['accuracy'])\n",
    "\n",
    "model.fit(x_train, y_train, batch_size=100, epochs=20)\n",
    "\n",
    "result = model.evaluate(x_test, y_test)\n",
    "# print result\n",
    "print(result)"
   ]
  },
  {
   "cell_type": "code",
   "execution_count": 14,
   "metadata": {
    "scrolled": true
   },
   "outputs": [
    {
     "name": "stdout",
     "output_type": "stream",
     "text": [
      "Epoch 1/20\n",
      "10000/10000 [==============================] - 3s 252us/step - loss: 0.8519 - acc: 0.7603\n",
      "Epoch 2/20\n",
      "10000/10000 [==============================] - 2s 213us/step - loss: 0.3295 - acc: 0.9037\n",
      "Epoch 3/20\n",
      "10000/10000 [==============================] - 2s 227us/step - loss: 0.2474 - acc: 0.9264\n",
      "Epoch 4/20\n",
      "10000/10000 [==============================] - 2s 241us/step - loss: 0.1959 - acc: 0.9443\n",
      "Epoch 5/20\n",
      "10000/10000 [==============================] - 2s 221us/step - loss: 0.1641 - acc: 0.9521\n",
      "Epoch 6/20\n",
      "10000/10000 [==============================] - 2s 236us/step - loss: 0.1408 - acc: 0.9583\n",
      "Epoch 7/20\n",
      "10000/10000 [==============================] - 2s 241us/step - loss: 0.1137 - acc: 0.9674\n",
      "Epoch 8/20\n",
      "10000/10000 [==============================] - 3s 263us/step - loss: 0.0990 - acc: 0.9731\n",
      "Epoch 9/20\n",
      "10000/10000 [==============================] - 3s 252us/step - loss: 0.0795 - acc: 0.9785\n",
      "Epoch 10/20\n",
      "10000/10000 [==============================] - 3s 287us/step - loss: 0.0692 - acc: 0.9808\n",
      "Epoch 11/20\n",
      "10000/10000 [==============================] - 3s 258us/step - loss: 0.0578 - acc: 0.9854\n",
      "Epoch 12/20\n",
      "10000/10000 [==============================] - 3s 302us/step - loss: 0.0454 - acc: 0.9892\n",
      "Epoch 13/20\n",
      "10000/10000 [==============================] - 3s 319us/step - loss: 0.0397 - acc: 0.9910\n",
      "Epoch 14/20\n",
      "10000/10000 [==============================] - 3s 278us/step - loss: 0.0304 - acc: 0.9952\n",
      "Epoch 15/20\n",
      "10000/10000 [==============================] - 4s 357us/step - loss: 0.0274 - acc: 0.9941\n",
      "Epoch 16/20\n",
      "10000/10000 [==============================] - 3s 291us/step - loss: 0.0214 - acc: 0.9968\n",
      "Epoch 17/20\n",
      "10000/10000 [==============================] - 3s 304us/step - loss: 0.0184 - acc: 0.9981\n",
      "Epoch 18/20\n",
      "10000/10000 [==============================] - 3s 314us/step - loss: 0.0144 - acc: 0.9988\n",
      "Epoch 19/20\n",
      "10000/10000 [==============================] - 3s 314us/step - loss: 0.0121 - acc: 0.9988\n",
      "Epoch 20/20\n",
      "10000/10000 [==============================] - 3s 337us/step - loss: 0.0104 - acc: 0.9993\n",
      "10000/10000 [==============================] - 3s 263us/step\n",
      "[0.15889961438170866, 0.9534]\n"
     ]
    }
   ],
   "source": [
    "# relu\n",
    "model = Sequential()\n",
    "model.add(Dense(input_dim=28*28, units=633, activation='relu'))\n",
    "model.add(Dense(units=633, activation='relu'))\n",
    "model.add(Dense(units=633, activation='relu'))\n",
    "model.add(Dense(units=10, activation='softmax'))\n",
    "\n",
    "# 修改loss function 对模型效果也有较大影响\n",
    "model.compile(loss='categorical_crossentropy', optimizer=SGD(lr=0.1), metrics=['accuracy'])\n",
    "\n",
    "model.fit(x_train, y_train, batch_size=100, epochs=20)\n",
    "\n",
    "result = model.evaluate(x_test, y_test)\n",
    "print result"
   ]
  },
  {
   "cell_type": "code",
   "execution_count": 10,
   "metadata": {
    "scrolled": true
   },
   "outputs": [
    {
     "name": "stdout",
     "output_type": "stream",
     "text": [
      "Epoch 1/20\n",
      "10000/10000 [==============================] - 2s 174us/step - loss: 0.0893 - acc: 0.1720\n",
      "Epoch 2/20\n",
      "10000/10000 [==============================] - 2s 223us/step - loss: 0.0869 - acc: 0.3751\n",
      "Epoch 3/20\n",
      "10000/10000 [==============================] - 2s 216us/step - loss: 0.0834 - acc: 0.5357\n",
      "Epoch 4/20\n",
      "10000/10000 [==============================] - 2s 210us/step - loss: 0.0775 - acc: 0.5961\n",
      "Epoch 5/20\n",
      "10000/10000 [==============================] - 1s 144us/step - loss: 0.0684 - acc: 0.6559\n",
      "Epoch 6/20\n",
      "10000/10000 [==============================] - 2s 181us/step - loss: 0.0569 - acc: 0.7146\n",
      "Epoch 7/20\n",
      "10000/10000 [==============================] - 2s 155us/step - loss: 0.0465 - acc: 0.7568\n",
      "Epoch 8/20\n",
      "10000/10000 [==============================] - 2s 169us/step - loss: 0.0390 - acc: 0.7821\n",
      "Epoch 9/20\n",
      "10000/10000 [==============================] - 2s 163us/step - loss: 0.0334 - acc: 0.8199\n",
      "Epoch 10/20\n",
      "10000/10000 [==============================] - 2s 153us/step - loss: 0.0291 - acc: 0.8484\n",
      "Epoch 11/20\n",
      "10000/10000 [==============================] - 2s 190us/step - loss: 0.0257 - acc: 0.8661\n",
      "Epoch 12/20\n",
      "10000/10000 [==============================] - 2s 151us/step - loss: 0.0233 - acc: 0.8767\n",
      "Epoch 13/20\n",
      "10000/10000 [==============================] - 1s 136us/step - loss: 0.0214 - acc: 0.8827\n",
      "Epoch 14/20\n",
      "10000/10000 [==============================] - 1s 133us/step - loss: 0.0199 - acc: 0.8892\n",
      "Epoch 15/20\n",
      "10000/10000 [==============================] - 1s 132us/step - loss: 0.0188 - acc: 0.8928\n",
      "Epoch 16/20\n",
      "10000/10000 [==============================] - 2s 180us/step - loss: 0.0178 - acc: 0.8974\n",
      "Epoch 17/20\n",
      "10000/10000 [==============================] - 2s 168us/step - loss: 0.0170 - acc: 0.9016\n",
      "Epoch 18/20\n",
      "10000/10000 [==============================] - 2s 199us/step - loss: 0.0164 - acc: 0.9036\n",
      "Epoch 19/20\n",
      "10000/10000 [==============================] - 2s 151us/step - loss: 0.0158 - acc: 0.9071\n",
      "Epoch 20/20\n",
      "10000/10000 [==============================] - 1s 150us/step - loss: 0.0153 - acc: 0.9085\n",
      "10000/10000 [==============================] - 1s 101us/step\n",
      "[0.0161180724196136, 0.9029]\n"
     ]
    }
   ],
   "source": [
    "# relu\n",
    "model = Sequential()\n",
    "model.add(Dense(input_dim=28*28, units=633, activation='relu'))\n",
    "model.add(Dense(units=633, activation='relu'))\n",
    "model.add(Dense(units=633, activation='relu'))\n",
    "model.add(Dense(units=10, activation='softmax'))\n",
    "\n",
    "model.compile(loss='mse', optimizer=SGD(lr=0.1), metrics=['accuracy'])\n",
    "\n",
    "model.fit(x_train, y_train, batch_size=100, epochs=20)\n",
    "\n",
    "result = model.evaluate(x_test, y_test)\n",
    "print result"
   ]
  },
  {
   "cell_type": "code",
   "execution_count": 8,
   "metadata": {
    "scrolled": true
   },
   "outputs": [
    {
     "name": "stdout",
     "output_type": "stream",
     "text": [
      "Epoch 1/20\n",
      "10000/10000 [==============================] - 1s 147us/step - loss: 0.0903 - acc: 0.1106\n",
      "Epoch 2/20\n",
      "10000/10000 [==============================] - 1s 121us/step - loss: 0.0900 - acc: 0.0946\n",
      "Epoch 3/20\n",
      "10000/10000 [==============================] - 1s 114us/step - loss: 0.0900 - acc: 0.1039\n",
      "Epoch 4/20\n",
      "10000/10000 [==============================] - 1s 124us/step - loss: 0.0900 - acc: 0.1075\n",
      "Epoch 5/20\n",
      "10000/10000 [==============================] - 2s 174us/step - loss: 0.0900 - acc: 0.1046\n",
      "Epoch 6/20\n",
      "10000/10000 [==============================] - 1s 111us/step - loss: 0.0900 - acc: 0.1087\n",
      "Epoch 7/20\n",
      "10000/10000 [==============================] - 2s 150us/step - loss: 0.0900 - acc: 0.1056\n",
      "Epoch 8/20\n",
      "10000/10000 [==============================] - 1s 124us/step - loss: 0.0900 - acc: 0.1007\n",
      "Epoch 9/20\n",
      "10000/10000 [==============================] - 1s 126us/step - loss: 0.0899 - acc: 0.1055\n",
      "Epoch 10/20\n",
      "10000/10000 [==============================] - 1s 117us/step - loss: 0.0899 - acc: 0.1058\n",
      "Epoch 11/20\n",
      "10000/10000 [==============================] - 1s 116us/step - loss: 0.0899 - acc: 0.1081\n",
      "Epoch 12/20\n",
      "10000/10000 [==============================] - 1s 113us/step - loss: 0.0899 - acc: 0.1101\n",
      "Epoch 13/20\n",
      "10000/10000 [==============================] - 1s 123us/step - loss: 0.0899 - acc: 0.1114\n",
      "Epoch 14/20\n",
      "10000/10000 [==============================] - 1s 126us/step - loss: 0.0899 - acc: 0.1100\n",
      "Epoch 15/20\n",
      "10000/10000 [==============================] - 1s 121us/step - loss: 0.0899 - acc: 0.1074\n",
      "Epoch 16/20\n",
      "10000/10000 [==============================] - 1s 125us/step - loss: 0.0899 - acc: 0.1150\n",
      "Epoch 17/20\n",
      "10000/10000 [==============================] - 1s 129us/step - loss: 0.0899 - acc: 0.1118\n",
      "Epoch 18/20\n",
      "10000/10000 [==============================] - 1s 124us/step - loss: 0.0899 - acc: 0.1111\n",
      "Epoch 19/20\n",
      "10000/10000 [==============================] - 1s 125us/step - loss: 0.0899 - acc: 0.1170\n",
      "Epoch 20/20\n",
      "10000/10000 [==============================] - 1s 128us/step - loss: 0.0899 - acc: 0.1136\n",
      "10000/10000 [==============================] - 1s 92us/step\n",
      "[0.0899145367383957, 0.101]\n"
     ]
    }
   ],
   "source": [
    "# sigmoid\n",
    "model = Sequential()\n",
    "model.add(Dense(input_dim=28*28, units=633, activation='sigmoid'))\n",
    "model.add(Dense(units=633, activation='sigmoid'))\n",
    "model.add(Dense(units=633, activation='sigmoid'))\n",
    "model.add(Dense(units=10, activation='softmax'))\n",
    "\n",
    "model.compile(loss='mse', optimizer=SGD(lr=0.1), metrics=['accuracy'])\n",
    "\n",
    "model.fit(x_train, y_train, batch_size=100, epochs=20)\n",
    "\n",
    "result = model.evaluate(x_test, y_test)\n",
    "print result"
   ]
  },
  {
   "cell_type": "markdown",
   "metadata": {},
   "source": [
    "## 神经网络加深"
   ]
  },
  {
   "cell_type": "code",
   "execution_count": 13,
   "metadata": {
    "scrolled": true
   },
   "outputs": [
    {
     "name": "stdout",
     "output_type": "stream",
     "text": [
      "Epoch 1/20\n",
      "10000/10000 [==============================] - ETA: 0s - loss: 0.0898 - acc: 0.1197- ETA: 3s  - 3s 261us/step - loss: 0.0898 - acc: 0.1199\n",
      "Epoch 2/20\n",
      "10000/10000 [==============================] - 2s 227us/step - loss: 0.0894 - acc: 0.2270\n",
      "Epoch 3/20\n",
      "10000/10000 [==============================] - 2s 225us/step - loss: 0.0890 - acc: 0.3590\n",
      "Epoch 4/20\n",
      "10000/10000 [==============================] - 2s 225us/step - loss: 0.0884 - acc: 0.4378\n",
      "Epoch 5/20\n",
      "10000/10000 [==============================] - 2s 233us/step - loss: 0.0877 - acc: 0.4755 0s - loss: 0.0878 - a\n",
      "Epoch 6/20\n",
      "10000/10000 [==============================] - 3s 261us/step - loss: 0.0866 - acc: 0.4743\n",
      "Epoch 7/20\n",
      "10000/10000 [==============================] - 3s 254us/step - loss: 0.0847 - acc: 0.4366 2s - loss: 0.0857 - acc - ETA: 1s \n",
      "Epoch 8/20\n",
      "10000/10000 [==============================] - 3s 281us/step - loss: 0.0809 - acc: 0.4374 1s - loss:\n",
      "Epoch 9/20\n",
      "10000/10000 [==============================] - 3s 322us/step - loss: 0.0743 - acc: 0.4742\n",
      "Epoch 10/20\n",
      "10000/10000 [==============================] - 3s 340us/step - loss: 0.0652 - acc: 0.5561\n",
      "Epoch 11/20\n",
      "10000/10000 [==============================] - 4s 389us/step - loss: 0.0544 - acc: 0.6549\n",
      "Epoch 12/20\n",
      "10000/10000 [==============================] - 3s 279us/step - loss: 0.0434 - acc: 0.7423\n",
      "Epoch 13/20\n",
      "10000/10000 [==============================] - 3s 279us/step - loss: 0.0346 - acc: 0.8016\n",
      "Epoch 14/20\n",
      "10000/10000 [==============================] - 4s 356us/step - loss: 0.0284 - acc: 0.8407\n",
      "Epoch 15/20\n",
      "10000/10000 [==============================] - 3s 326us/step - loss: 0.0243 - acc: 0.8612\n",
      "Epoch 16/20\n",
      "10000/10000 [==============================] - 3s 312us/step - loss: 0.0215 - acc: 0.8763\n",
      "Epoch 17/20\n",
      "10000/10000 [==============================] - 3s 289us/step - loss: 0.0195 - acc: 0.8865\n",
      "Epoch 18/20\n",
      "10000/10000 [==============================] - 3s 264us/step - loss: 0.0178 - acc: 0.8948\n",
      "Epoch 19/20\n",
      "10000/10000 [==============================] - 3s 269us/step - loss: 0.0166 - acc: 0.9012\n",
      "Epoch 20/20\n",
      "10000/10000 [==============================] - 3s 311us/step - loss: 0.0156 - acc: 0.9066 3s - loss: 0 - ETA: 1s - l\n",
      "10000/10000 [==============================] - 2s 154us/step\n",
      "[0.016241770848818123, 0.8964]\n"
     ]
    }
   ],
   "source": [
    "# relu  注意：加深到20层，反而效果非常差，这是为什么？ 收敛到 min local ？\n",
    "model = Sequential()\n",
    "model.add(Dense(input_dim=28*28, units=633, activation='relu'))\n",
    "for i in range(5):\n",
    "    model.add(Dense(units=633, activation='relu'))\n",
    "\n",
    "model.add(Dense(units=10, activation='softmax'))\n",
    "\n",
    "model.compile(loss='categorical_crossentropy', optimizer=SGD(lr=0.1), metrics=['accuracy'])\n",
    "\n",
    "model.fit(x_train, y_train, batch_size=100, epochs=20)\n",
    "\n",
    "result = model.evaluate(x_test, y_test)\n",
    "print result"
   ]
  },
  {
   "cell_type": "code",
   "execution_count": null,
   "metadata": {},
   "outputs": [],
   "source": []
  },
  {
   "cell_type": "code",
   "execution_count": null,
   "metadata": {},
   "outputs": [],
   "source": []
  },
  {
   "cell_type": "code",
   "execution_count": null,
   "metadata": {},
   "outputs": [],
   "source": []
  },
  {
   "cell_type": "code",
   "execution_count": 6,
   "metadata": {},
   "outputs": [],
   "source": [
    "import keras"
   ]
  },
  {
   "cell_type": "code",
   "execution_count": 1,
   "metadata": {},
   "outputs": [
    {
     "name": "stderr",
     "output_type": "stream",
     "text": [
      "Using TensorFlow backend.\n"
     ]
    }
   ],
   "source": [
    "from keras.models import Sequential"
   ]
  },
  {
   "cell_type": "code",
   "execution_count": 2,
   "metadata": {},
   "outputs": [],
   "source": [
    "model = Sequential()"
   ]
  },
  {
   "cell_type": "code",
   "execution_count": 3,
   "metadata": {},
   "outputs": [],
   "source": [
    "from keras.layers import Dense\n",
    "\n",
    "model.add(Dense(units=64, activation='relu', input_dim=100))\n",
    "model.add(Dense(units=10, activation='softmax'))"
   ]
  },
  {
   "cell_type": "code",
   "execution_count": 4,
   "metadata": {},
   "outputs": [],
   "source": [
    "model.compile(loss='categorical_crossentropy',\n",
    "              optimizer='sgd',\n",
    "              metrics=['accuracy'])"
   ]
  },
  {
   "cell_type": "code",
   "execution_count": 7,
   "metadata": {},
   "outputs": [],
   "source": [
    "model.compile(loss=keras.losses.categorical_crossentropy,\n",
    "              optimizer=keras.optimizers.SGD(lr=0.01, momentum=0.9, nesterov=True))"
   ]
  },
  {
   "cell_type": "code",
   "execution_count": null,
   "metadata": {},
   "outputs": [],
   "source": []
  }
 ],
 "metadata": {
  "kernelspec": {
   "display_name": "Python 3",
   "language": "python",
   "name": "python3"
  },
  "language_info": {
   "codemirror_mode": {
    "name": "ipython",
    "version": 3
   },
   "file_extension": ".py",
   "mimetype": "text/x-python",
   "name": "python",
   "nbconvert_exporter": "python",
   "pygments_lexer": "ipython3",
   "version": "3.6.5"
  }
 },
 "nbformat": 4,
 "nbformat_minor": 2
}
