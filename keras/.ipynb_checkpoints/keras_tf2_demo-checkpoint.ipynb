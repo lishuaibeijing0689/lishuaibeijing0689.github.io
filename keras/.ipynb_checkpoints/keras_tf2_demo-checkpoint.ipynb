{
 "cells": [
  {
   "cell_type": "code",
   "execution_count": 1,
   "metadata": {},
   "outputs": [
    {
     "data": {
      "text/plain": [
       "'\\nkeras + tf2.0 demo\\n'"
      ]
     },
     "execution_count": 1,
     "metadata": {},
     "output_type": "execute_result"
    }
   ],
   "source": [
    "\"\"\"\n",
    "keras + tf2.0 demo\n",
    "\"\"\""
   ]
  },
  {
   "cell_type": "code",
   "execution_count": 2,
   "metadata": {},
   "outputs": [
    {
     "name": "stdout",
     "output_type": "stream",
     "text": [
      "2.0.0\n"
     ]
    }
   ],
   "source": [
    "import tensorflow as tf\n",
    "\n",
    "print(tf.__version__)"
   ]
  },
  {
   "cell_type": "markdown",
   "metadata": {},
   "source": [
    "## constant"
   ]
  },
  {
   "cell_type": "code",
   "execution_count": 3,
   "metadata": {},
   "outputs": [
    {
     "name": "stdout",
     "output_type": "stream",
     "text": [
      "tf.Tensor(\n",
      "[[1 2]\n",
      " [3 4]], shape=(2, 2), dtype=int32)\n"
     ]
    }
   ],
   "source": [
    "x = tf.constant([[1,2], [3,4]])\n",
    "print(x)"
   ]
  },
  {
   "cell_type": "code",
   "execution_count": 4,
   "metadata": {},
   "outputs": [
    {
     "data": {
      "text/plain": [
       "array([[1, 2],\n",
       "       [3, 4]], dtype=int32)"
      ]
     },
     "execution_count": 4,
     "metadata": {},
     "output_type": "execute_result"
    }
   ],
   "source": [
    "x.numpy()"
   ]
  },
  {
   "cell_type": "code",
   "execution_count": 5,
   "metadata": {},
   "outputs": [
    {
     "name": "stdout",
     "output_type": "stream",
     "text": [
      "tf.Tensor(\n",
      "[[1.]\n",
      " [1.]], shape=(2, 1), dtype=float32)\n",
      "tf.Tensor(\n",
      "[[0.]\n",
      " [0.]], shape=(2, 1), dtype=float32)\n"
     ]
    }
   ],
   "source": [
    "print(tf.ones(shape=(2, 1)))\n",
    "print(tf.zeros(shape=(2, 1)))"
   ]
  },
  {
   "cell_type": "code",
   "execution_count": 6,
   "metadata": {},
   "outputs": [
    {
     "data": {
      "text/plain": [
       "<tf.Tensor: id=12, shape=(2, 2), dtype=float32, numpy=\n",
       "array([[ 1.3227628 ,  0.475269  ],\n",
       "       [ 0.27089095, -0.5938727 ]], dtype=float32)>"
      ]
     },
     "execution_count": 6,
     "metadata": {},
     "output_type": "execute_result"
    }
   ],
   "source": [
    "tf.random.normal(shape=(2, 2), mean=0., stddev=1.)"
   ]
  },
  {
   "cell_type": "code",
   "execution_count": 7,
   "metadata": {},
   "outputs": [
    {
     "data": {
      "text/plain": [
       "<tf.Tensor: id=16, shape=(2, 2), dtype=int32, numpy=\n",
       "array([[1, 4],\n",
       "       [3, 6]], dtype=int32)>"
      ]
     },
     "execution_count": 7,
     "metadata": {},
     "output_type": "execute_result"
    }
   ],
   "source": [
    "tf.random.uniform(shape=(2, 2), minval=0, maxval=10, dtype='int32')"
   ]
  },
  {
   "cell_type": "markdown",
   "metadata": {},
   "source": [
    "## variable"
   ]
  },
  {
   "cell_type": "code",
   "execution_count": 8,
   "metadata": {},
   "outputs": [
    {
     "name": "stdout",
     "output_type": "stream",
     "text": [
      "<tf.Variable 'Variable:0' shape=(2, 2) dtype=float32, numpy=\n",
      "array([[-1.5453823, -1.0091534],\n",
      "       [-0.2967962,  2.2064934]], dtype=float32)>\n"
     ]
    }
   ],
   "source": [
    "initial_value = tf.random.normal(shape=(2,2))\n",
    "a = tf.Variable(initial_value)\n",
    "print(a)"
   ]
  },
  {
   "cell_type": "code",
   "execution_count": 39,
   "metadata": {},
   "outputs": [
    {
     "data": {
      "text/plain": [
       "<tf.Tensor: id=26315, shape=(2, 2), dtype=float32, numpy=\n",
       "array([[ 0.6841561 , -0.9687998 ],\n",
       "       [ 0.41278812,  0.18888688]], dtype=float32)>"
      ]
     },
     "execution_count": 39,
     "metadata": {},
     "output_type": "execute_result"
    }
   ],
   "source": [
    "assign_value = tf.random.normal(shape=(2,2))\n",
    "assign_value"
   ]
  },
  {
   "cell_type": "code",
   "execution_count": 40,
   "metadata": {},
   "outputs": [
    {
     "data": {
      "text/plain": [
       "<tf.Variable 'Variable:0' shape=(2, 2) dtype=float32, numpy=\n",
       "array([[ 0.6841561 , -0.9687998 ],\n",
       "       [ 0.41278812,  0.18888688]], dtype=float32)>"
      ]
     },
     "execution_count": 40,
     "metadata": {},
     "output_type": "execute_result"
    }
   ],
   "source": [
    "a.assign(assign_value)\n",
    "a"
   ]
  },
  {
   "cell_type": "code",
   "execution_count": 41,
   "metadata": {},
   "outputs": [
    {
     "data": {
      "text/plain": [
       "<tf.Variable 'Variable:0' shape=(2, 2) dtype=float32, numpy=\n",
       "array([[1.6841562 , 0.03120017],\n",
       "       [1.4127882 , 1.1888869 ]], dtype=float32)>"
      ]
     },
     "execution_count": 41,
     "metadata": {},
     "output_type": "execute_result"
    }
   ],
   "source": [
    "a.assign_add(tf.ones(shape=(2,2)))\n",
    "a"
   ]
  },
  {
   "cell_type": "code",
   "execution_count": 12,
   "metadata": {},
   "outputs": [
    {
     "name": "stdout",
     "output_type": "stream",
     "text": [
      "tf.Tensor(\n",
      "[[-0.65670186  0.12893198]\n",
      " [-0.07983183  0.52560586]], shape=(2, 2), dtype=float32)\n",
      "tf.Tensor(\n",
      "[[-0.09519218  1.7029492 ]\n",
      " [-2.0989065   0.491766  ]], shape=(2, 2), dtype=float32)\n"
     ]
    },
    {
     "data": {
      "text/plain": [
       "<tf.Tensor: id=51, shape=(2, 2), dtype=float32, numpy=\n",
       "array([[-0.75189406,  1.8318812 ],\n",
       "       [-2.1787384 ,  1.0173719 ]], dtype=float32)>"
      ]
     },
     "execution_count": 12,
     "metadata": {},
     "output_type": "execute_result"
    }
   ],
   "source": [
    "a = tf.random.normal(shape=(2,2))\n",
    "b = tf.random.normal(shape=(2,2))\n",
    "\n",
    "print(a)\n",
    "print(b)\n",
    "\n",
    "c = a + b\n",
    "c"
   ]
  },
  {
   "cell_type": "code",
   "execution_count": 13,
   "metadata": {},
   "outputs": [
    {
     "data": {
      "text/plain": [
       "<tf.Tensor: id=52, shape=(2, 2), dtype=float32, numpy=\n",
       "array([[0.5185588, 1.1376127],\n",
       "       [0.9232716, 1.6914834]], dtype=float32)>"
      ]
     },
     "execution_count": 13,
     "metadata": {},
     "output_type": "execute_result"
    }
   ],
   "source": [
    "d = tf.exp(a)\n",
    "d"
   ]
  },
  {
   "cell_type": "code",
   "execution_count": 14,
   "metadata": {},
   "outputs": [
    {
     "data": {
      "text/plain": [
       "<tf.Tensor: id=53, shape=(2, 2), dtype=float32, numpy=\n",
       "array([[0.43125734, 0.01662346],\n",
       "       [0.00637312, 0.2762615 ]], dtype=float32)>"
      ]
     },
     "execution_count": 14,
     "metadata": {},
     "output_type": "execute_result"
    }
   ],
   "source": [
    "e = tf.square(a)\n",
    "e"
   ]
  },
  {
   "cell_type": "code",
   "execution_count": 15,
   "metadata": {},
   "outputs": [
    {
     "data": {
      "text/plain": [
       "<tf.Tensor: id=58, shape=(2, 2), dtype=float32, numpy=\n",
       "array([[4., 4.],\n",
       "       [4., 4.]], dtype=float32)>"
      ]
     },
     "execution_count": 15,
     "metadata": {},
     "output_type": "execute_result"
    }
   ],
   "source": [
    "a = tf.ones(shape=(2,2))*4\n",
    "a"
   ]
  },
  {
   "cell_type": "code",
   "execution_count": 16,
   "metadata": {},
   "outputs": [
    {
     "data": {
      "text/plain": [
       "<tf.Variable 'Variable:0' shape=(2, 2) dtype=float32, numpy=\n",
       "array([[4., 4.],\n",
       "       [4., 4.]], dtype=float32)>"
      ]
     },
     "execution_count": 16,
     "metadata": {},
     "output_type": "execute_result"
    }
   ],
   "source": [
    "a = tf.Variable(a)\n",
    "a"
   ]
  },
  {
   "cell_type": "code",
   "execution_count": 17,
   "metadata": {},
   "outputs": [
    {
     "name": "stdout",
     "output_type": "stream",
     "text": [
      "tf.Tensor(\n",
      "[[16. 16.]\n",
      " [16. 16.]], shape=(2, 2), dtype=float32)\n",
      "tf.Tensor(\n",
      "[[8. 8.]\n",
      " [8. 8.]], shape=(2, 2), dtype=float32)\n"
     ]
    }
   ],
   "source": [
    "with tf.GradientTape() as tape:\n",
    "    c = tf.square(a)\n",
    "    print(c)\n",
    "    dc_da = tape.gradient(c, a)\n",
    "    print(dc_da)"
   ]
  },
  {
   "cell_type": "markdown",
   "metadata": {},
   "source": [
    "## linear regression"
   ]
  },
  {
   "cell_type": "code",
   "execution_count": 18,
   "metadata": {},
   "outputs": [],
   "source": [
    "input_dim = 2\n",
    "output_dim = 1\n",
    "learning_rate = 0.01\n",
    "\n",
    "# This is our weight matrix\n",
    "w = tf.Variable(tf.random.uniform(shape=(input_dim, output_dim)))\n",
    "# This is our bias vector\n",
    "b = tf.Variable(tf.zeros(shape=(output_dim,)))\n"
   ]
  },
  {
   "cell_type": "code",
   "execution_count": 19,
   "metadata": {},
   "outputs": [],
   "source": [
    "def compute_predictions(features):\n",
    "    return tf.matmul(features, w) + b\n",
    "\n",
    "def compute_loss(labels, predictions):\n",
    "    return tf.reduce_mean(tf.square(labels - predictions))\n",
    "\n",
    "def train_on_batch(x, y):\n",
    "    with tf.GradientTape() as tape:\n",
    "        predictions = compute_predictions(x)\n",
    "        loss = compute_loss(y, predictions)\n",
    "        # Note that `tape.gradient` works with a list as well (w, b).\n",
    "        dloss_dw, dloss_db = tape.gradient(loss, [w, b])\n",
    "    w.assign_sub(learning_rate * dloss_dw)\n",
    "    b.assign_sub(learning_rate * dloss_db)\n",
    "    return loss"
   ]
  },
  {
   "cell_type": "code",
   "execution_count": 20,
   "metadata": {},
   "outputs": [],
   "source": [
    "import numpy as np\n",
    "import random\n",
    "import matplotlib.pyplot as plt\n",
    "%matplotlib inline"
   ]
  },
  {
   "cell_type": "code",
   "execution_count": 21,
   "metadata": {},
   "outputs": [],
   "source": [
    "# Prepare a dataset.\n",
    "num_samples = 10000\n",
    "negative_samples = np.random.multivariate_normal(\n",
    "    mean=[0, 3], cov=[[1, 0.5],[0.5, 1]], size=num_samples)\n",
    "positive_samples = np.random.multivariate_normal(\n",
    "    mean=[3, 0], cov=[[1, 0.5],[0.5, 1]], size=num_samples)\n",
    "features = np.vstack((negative_samples, positive_samples)).astype(np.float32)\n",
    "labels = np.vstack((np.zeros((num_samples, 1), dtype='float32'),\n",
    "                    np.ones((num_samples, 1), dtype='float32')))"
   ]
  },
  {
   "cell_type": "code",
   "execution_count": 22,
   "metadata": {},
   "outputs": [
    {
     "data": {
      "text/plain": [
       "<matplotlib.collections.PathCollection at 0xb3964a470>"
      ]
     },
     "execution_count": 22,
     "metadata": {},
     "output_type": "execute_result"
    },
    {
     "data": {
      "image/png": "[encoded data removed]",
      "text/plain": [
       "<Figure size 432x288 with 1 Axes>"
      ]
     },
     "metadata": {},
     "output_type": "display_data"
    }
   ],
   "source": [
    "plt.scatter(features[:, 0], features[:, 1], c=labels[:, 0])"
   ]
  },
  {
   "cell_type": "code",
   "execution_count": 23,
   "metadata": {},
   "outputs": [],
   "source": [
    "# Shuffle the data.\n",
    "indices = np.random.permutation(len(features))\n",
    "features = features[indices]\n",
    "labels = labels[indices]"
   ]
  },
  {
   "cell_type": "code",
   "execution_count": 24,
   "metadata": {},
   "outputs": [],
   "source": [
    "# Create a tf.data.Dataset object for easy batched iteration\n",
    "dataset = tf.data.Dataset.from_tensor_slices((features, labels))\n",
    "dataset = dataset.shuffle(buffer_size=1024).batch(256)"
   ]
  },
  {
   "cell_type": "code",
   "execution_count": 25,
   "metadata": {},
   "outputs": [
    {
     "name": "stdout",
     "output_type": "stream",
     "text": [
      "Epoch 0: last batch loss = 0.0727\n",
      "Epoch 1: last batch loss = 0.0621\n",
      "Epoch 2: last batch loss = 0.0365\n",
      "Epoch 3: last batch loss = 0.0351\n",
      "Epoch 4: last batch loss = 0.0315\n",
      "Epoch 5: last batch loss = 0.0314\n",
      "Epoch 6: last batch loss = 0.0207\n",
      "Epoch 7: last batch loss = 0.0166\n",
      "Epoch 8: last batch loss = 0.0225\n",
      "Epoch 9: last batch loss = 0.0238\n"
     ]
    }
   ],
   "source": [
    "for epoch in range(10):\n",
    "    for step, (x, y) in enumerate(dataset):\n",
    "        loss = train_on_batch(x, y)\n",
    "    print('Epoch %d: last batch loss = %.4f' % (epoch, float(loss)))"
   ]
  },
  {
   "cell_type": "code",
   "execution_count": 26,
   "metadata": {},
   "outputs": [
    {
     "data": {
      "text/plain": [
       "<matplotlib.collections.PathCollection at 0xb3972d1d0>"
      ]
     },
     "execution_count": 26,
     "metadata": {},
     "output_type": "execute_result"
    },
    {
     "data": {
      "image/png": "[encoded data removed]",
      "text/plain": [
       "<Figure size 432x288 with 1 Axes>"
      ]
     },
     "metadata": {},
     "output_type": "display_data"
    }
   ],
   "source": [
    "predictions = compute_predictions(features)\n",
    "plt.scatter(features[:, 0], features[:, 1], c=predictions[:, 0] > 0.5)"
   ]
  },
  {
   "cell_type": "markdown",
   "metadata": {},
   "source": [
    "# keras"
   ]
  },
  {
   "cell_type": "markdown",
   "metadata": {},
   "source": [
    "## Layer"
   ]
  },
  {
   "cell_type": "code",
   "execution_count": 27,
   "metadata": {},
   "outputs": [],
   "source": [
    "from tensorflow.keras.layers import Layer\n",
    "\n",
    "class Linear(Layer):\n",
    "    \"\"\"y = w.x + b\"\"\"\n",
    "\n",
    "    def __init__(self, units=32, input_dim=32):\n",
    "        super(Linear, self).__init__()\n",
    "        w_init = tf.random_normal_initializer()\n",
    "        self.w = tf.Variable(\n",
    "            initial_value=w_init(shape=(input_dim, units), dtype='float32'),\n",
    "            trainable=True)\n",
    "        b_init = tf.zeros_initializer()\n",
    "        self.b = tf.Variable(\n",
    "            initial_value=b_init(shape=(units,), dtype='float32'),\n",
    "            trainable=True)\n",
    "\n",
    "    def call(self, inputs):\n",
    "        return tf.matmul(inputs, self.w) + self.b\n",
    "\n",
    "# Instantiate our layer.\n",
    "linear_layer = Linear(4, 2)"
   ]
  },
  {
   "cell_type": "code",
   "execution_count": 28,
   "metadata": {},
   "outputs": [],
   "source": [
    "y = linear_layer(tf.ones((2, 2)))"
   ]
  },
  {
   "cell_type": "code",
   "execution_count": 29,
   "metadata": {},
   "outputs": [
    {
     "data": {
      "text/plain": [
       "<tf.Tensor: id=26267, shape=(2, 4), dtype=float32, numpy=\n",
       "array([[ 0.08423095,  0.13789771,  0.0452654 , -0.04240597],\n",
       "       [ 0.08423095,  0.13789771,  0.0452654 , -0.04240597]],\n",
       "      dtype=float32)>"
      ]
     },
     "execution_count": 29,
     "metadata": {},
     "output_type": "execute_result"
    }
   ],
   "source": [
    "y"
   ]
  },
  {
   "cell_type": "code",
   "execution_count": 30,
   "metadata": {},
   "outputs": [],
   "source": [
    "class Linear(Layer):\n",
    "    \"\"\"y = w.x + b\"\"\"\n",
    "\n",
    "    def __init__(self, units=32):\n",
    "        super(Linear, self).__init__()\n",
    "        self.units = units\n",
    "\n",
    "    \n",
    "    def build(self, input_shape):\n",
    "        self.w = self.add_weight(shape=(input_shape[-1], self.units),\n",
    "                               initializer='random_normal',\n",
    "                               trainable=True)\n",
    "        self.b = self.add_weight(shape=(self.units,),\n",
    "                               initializer='random_normal',\n",
    "                               trainable=True)\n",
    "\n",
    "    def call(self, inputs):\n",
    "        return tf.matmul(inputs, self.w) + self.b\n",
    "\n",
    "\n",
    "# Instantiate our lazy layer.\n",
    "linear_layer = Linear(4)"
   ]
  },
  {
   "cell_type": "code",
   "execution_count": 31,
   "metadata": {},
   "outputs": [],
   "source": [
    "# This will also call `build(input_shape)` and create the weights.\n",
    "y = linear_layer(tf.ones((2, 2)))\n",
    "y"
   ]
  },
  {
   "cell_type": "markdown",
   "metadata": {},
   "source": [
    "## Trainable and Untrainable weight\n",
    "### trainable 的含义是什么？"
   ]
  },
  {
   "cell_type": "code",
   "execution_count": 50,
   "metadata": {},
   "outputs": [],
   "source": [
    "from tensorflow.keras.layers import Layer\n",
    "\n",
    "class ComputeSum(Layer):\n",
    "    \"\"\"Returns the sum of the inputs.\"\"\"\n",
    "\n",
    "    def __init__(self, input_dim):\n",
    "        super(ComputeSum, self).__init__()\n",
    "        # Create a non-trainable weight.\n",
    "        self.total = tf.Variable(tf.zeros(shape=(input_dim,)), trainable=False)\n",
    "#         self.tt = tf.Variable(tf.ones(shape=(input_dim,)), trainable=False)\n",
    "        \n",
    "    def call(self, inputs):\n",
    "        self.total.assign_add(tf.reduce_sum(inputs, axis=0))\n",
    "        return self.total\n",
    "    \n",
    "my_sum = ComputeSum(2)\n",
    "x = tf.ones((2,2))"
   ]
  },
  {
   "cell_type": "code",
   "execution_count": 51,
   "metadata": {},
   "outputs": [
    {
     "data": {
      "text/plain": [
       "([<tf.Variable 'Variable:0' shape=(2,) dtype=float32, numpy=array([0., 0.], dtype=float32)>],\n",
       " [])"
      ]
     },
     "execution_count": 51,
     "metadata": {},
     "output_type": "execute_result"
    }
   ],
   "source": [
    "my_sum.weights, my_sum.trainable_weights"
   ]
  },
  {
   "cell_type": "code",
   "execution_count": 52,
   "metadata": {},
   "outputs": [
    {
     "name": "stdout",
     "output_type": "stream",
     "text": [
      "[2. 2.]\n"
     ]
    }
   ],
   "source": [
    "y = my_sum(x)\n",
    "print(y.numpy())"
   ]
  },
  {
   "cell_type": "code",
   "execution_count": 54,
   "metadata": {},
   "outputs": [
    {
     "name": "stdout",
     "output_type": "stream",
     "text": [
      "[4. 4.]\n"
     ]
    }
   ],
   "source": [
    "y = my_sum(x)\n",
    "print(y.numpy())"
   ]
  },
  {
   "cell_type": "code",
   "execution_count": 55,
   "metadata": {},
   "outputs": [
    {
     "data": {
      "text/plain": [
       "([<tf.Variable 'Variable:0' shape=(2,) dtype=float32, numpy=array([4., 4.], dtype=float32)>],\n",
       " [])"
      ]
     },
     "execution_count": 55,
     "metadata": {},
     "output_type": "execute_result"
    }
   ],
   "source": [
    "my_sum.weights, my_sum.trainable_weights"
   ]
  },
  {
   "cell_type": "markdown",
   "metadata": {},
   "source": [
    "## 多个layer级联"
   ]
  },
  {
   "cell_type": "code",
   "execution_count": 56,
   "metadata": {},
   "outputs": [],
   "source": [
    "class Linear(Layer):\n",
    "    \"\"\"y = w.x + b\"\"\"\n",
    "\n",
    "    def __init__(self, units=32):\n",
    "        super(Linear, self).__init__()\n",
    "        self.units = units\n",
    "\n",
    "    \n",
    "    def build(self, input_shape):\n",
    "        self.w = self.add_weight(shape=(input_shape[-1], self.units),\n",
    "                               initializer='random_normal',\n",
    "                               trainable=True)\n",
    "        self.b = self.add_weight(shape=(self.units,),\n",
    "                               initializer='random_normal',\n",
    "                               trainable=True)\n",
    "\n",
    "    def call(self, inputs):\n",
    "        return tf.matmul(inputs, self.w) + self.b"
   ]
  },
  {
   "cell_type": "code",
   "execution_count": 90,
   "metadata": {},
   "outputs": [],
   "source": [
    "class MLP(Layer):\n",
    "    \"\"\"Simple stack of Linear layers.\"\"\"\n",
    "\n",
    "    def __init__(self):\n",
    "        super(MLP, self).__init__()\n",
    "        self.linear_1 = Linear(32)\n",
    "        self.linear_2 = Linear(32)\n",
    "        self.linear_3 = Linear(10)\n",
    "        \n",
    "    def call(self, inputs):\n",
    "        x = self.linear_1(inputs)\n",
    "        print(x)\n",
    "        x = tf.nn.relu(x)\n",
    "        print(\"relu\")\n",
    "        print(x)\n",
    "        x = self.linear_2(x)\n",
    "        x = tf.nn.relu(x)\n",
    "        return self.linear_3(x)"
   ]
  },
  {
   "cell_type": "code",
   "execution_count": 91,
   "metadata": {},
   "outputs": [],
   "source": [
    "mlp = MLP()"
   ]
  },
  {
   "cell_type": "code",
   "execution_count": 92,
   "metadata": {},
   "outputs": [
    {
     "data": {
      "text/plain": [
       "([], [], [])"
      ]
     },
     "execution_count": 92,
     "metadata": {},
     "output_type": "execute_result"
    }
   ],
   "source": [
    "mlp.weights, mlp.trainable_weights, mlp.trainable_variables"
   ]
  },
  {
   "cell_type": "code",
   "execution_count": 95,
   "metadata": {
    "scrolled": true
   },
   "outputs": [
    {
     "name": "stdout",
     "output_type": "stream",
     "text": [
      "tf.Tensor(\n",
      "[[-0.00877234  0.3013247  -0.5433318   0.29767206 -0.32893926 -0.5621788\n",
      "  -0.29103866  0.26179743 -0.04381631 -0.14039952 -0.16280344 -0.07223165\n",
      "  -0.14502712 -0.06053558 -0.30893326 -0.41445515  0.1777556   0.7486129\n",
      "   0.12778015  0.1234346   0.24094598  0.5504647  -0.27651966 -0.01219154\n",
      "  -0.15952007 -0.26934636 -0.5251525  -0.82925546  0.4246421  -0.45155036\n",
      "   0.25074586  0.47960028]\n",
      " [-0.00877234  0.3013247  -0.5433318   0.29767206 -0.32893926 -0.5621788\n",
      "  -0.29103866  0.26179743 -0.04381631 -0.14039952 -0.16280344 -0.07223165\n",
      "  -0.14502712 -0.06053558 -0.30893326 -0.41445515  0.1777556   0.7486129\n",
      "   0.12778015  0.1234346   0.24094598  0.5504647  -0.27651966 -0.01219154\n",
      "  -0.15952007 -0.26934636 -0.5251525  -0.82925546  0.4246421  -0.45155036\n",
      "   0.25074586  0.47960028]], shape=(2, 32), dtype=float32)\n",
      "relu\n",
      "tf.Tensor(\n",
      "[[0.         0.3013247  0.         0.29767206 0.         0.\n",
      "  0.         0.26179743 0.         0.         0.         0.\n",
      "  0.         0.         0.         0.         0.1777556  0.7486129\n",
      "  0.12778015 0.1234346  0.24094598 0.5504647  0.         0.\n",
      "  0.         0.         0.         0.         0.4246421  0.\n",
      "  0.25074586 0.47960028]\n",
      " [0.         0.3013247  0.         0.29767206 0.         0.\n",
      "  0.         0.26179743 0.         0.         0.         0.\n",
      "  0.         0.         0.         0.         0.1777556  0.7486129\n",
      "  0.12778015 0.1234346  0.24094598 0.5504647  0.         0.\n",
      "  0.         0.         0.         0.         0.4246421  0.\n",
      "  0.25074586 0.47960028]], shape=(2, 32), dtype=float32)\n"
     ]
    },
    {
     "data": {
      "text/plain": [
       "<tf.Tensor: id=26832, shape=(2, 10), dtype=float32, numpy=\n",
       "array([[-0.01568526,  0.03401215, -0.06196752,  0.0166299 ,  0.02728446,\n",
       "         0.02929399, -0.05833108,  0.01939727,  0.02057861, -0.05061734],\n",
       "       [-0.01568526,  0.03401215, -0.06196752,  0.0166299 ,  0.02728446,\n",
       "         0.02929399, -0.05833108,  0.01939727,  0.02057861, -0.05061734]],\n",
       "      dtype=float32)>"
      ]
     },
     "execution_count": 95,
     "metadata": {},
     "output_type": "execute_result"
    }
   ],
   "source": [
    "# The first call to the `mlp` object will create the weights.\n",
    "y = mlp(tf.ones(shape=(2, 64)))\n",
    "y"
   ]
  },
  {
   "cell_type": "code",
   "execution_count": 96,
   "metadata": {},
   "outputs": [
    {
     "data": {
      "text/plain": [
       "[<tf.Variable 'mlp_4/linear_14/Variable:0' shape=(64, 32) dtype=float32, numpy=\n",
       " array([[ 0.03296904, -0.04037259, -0.01943808, ...,  0.01431074,\n",
       "         -0.05096718,  0.07005732],\n",
       "        [-0.01702186,  0.01512867, -0.05507544, ..., -0.01849461,\n",
       "          0.04094579, -0.0533238 ],\n",
       "        [ 0.05955702,  0.07288717, -0.04249331, ..., -0.01188299,\n",
       "          0.03652183,  0.03367201],\n",
       "        ...,\n",
       "        [-0.05431705,  0.02273564,  0.02799588, ...,  0.0391593 ,\n",
       "          0.00245331,  0.12630074],\n",
       "        [ 0.04530295,  0.11008655, -0.00544845, ..., -0.07677469,\n",
       "          0.01519638, -0.06047898],\n",
       "        [ 0.02158814, -0.02848307,  0.00971644, ..., -0.05233785,\n",
       "          0.02126587, -0.06241869]], dtype=float32)>,\n",
       " <tf.Variable 'mlp_4/linear_14/Variable:0' shape=(32,) dtype=float32, numpy=\n",
       " array([ 0.01448044,  0.05795223,  0.07582223, -0.01601538,  0.03948314,\n",
       "        -0.09389766, -0.00321211,  0.06221361,  0.0241688 ,  0.00852044,\n",
       "         0.03776136, -0.05945263, -0.00695876,  0.03628668,  0.01707374,\n",
       "        -0.02118143, -0.06011483, -0.04740221,  0.04282175,  0.06145551,\n",
       "         0.0065182 ,  0.00211354, -0.06613328, -0.02122388,  0.03279966,\n",
       "         0.02334169, -0.06127965, -0.11347734,  0.09672754,  0.00256686,\n",
       "        -0.05744339, -0.04646107], dtype=float32)>,\n",
       " <tf.Variable 'mlp_4/linear_15/Variable:0' shape=(32, 32) dtype=float32, numpy=\n",
       " array([[-0.05713312, -0.01585799,  0.02237019, ...,  0.05120391,\n",
       "          0.03046637,  0.03155189],\n",
       "        [-0.04578794,  0.01034248, -0.07690409, ..., -0.00431854,\n",
       "          0.03670261,  0.0398615 ],\n",
       "        [ 0.00368315, -0.04369314, -0.06091595, ..., -0.05438384,\n",
       "         -0.01218996,  0.05829858],\n",
       "        ...,\n",
       "        [-0.0783287 , -0.02957393, -0.02659751, ...,  0.06236147,\n",
       "          0.07349887, -0.02990898],\n",
       "        [ 0.04578561,  0.04267227,  0.01271211, ..., -0.1425323 ,\n",
       "         -0.0662577 ,  0.0083669 ],\n",
       "        [ 0.02504323,  0.03920869, -0.00630887, ...,  0.02291917,\n",
       "         -0.05892631, -0.03754143]], dtype=float32)>,\n",
       " <tf.Variable 'mlp_4/linear_15/Variable:0' shape=(32,) dtype=float32, numpy=\n",
       " array([-0.01638281,  0.06198073,  0.03479748,  0.0437397 , -0.07133373,\n",
       "         0.06385779, -0.05270646,  0.04826302, -0.02156181, -0.1292163 ,\n",
       "         0.06501891, -0.04723775,  0.04394154,  0.00641498,  0.07338282,\n",
       "        -0.00482641,  0.06149868, -0.02053722, -0.13927864,  0.07277574,\n",
       "        -0.0239043 , -0.02754582, -0.03676913, -0.0357037 ,  0.09494387,\n",
       "        -0.06673869,  0.04117092, -0.04706454,  0.04861249,  0.00827841,\n",
       "         0.01196786,  0.01852713], dtype=float32)>,\n",
       " <tf.Variable 'mlp_4/linear_16/Variable:0' shape=(32, 10) dtype=float32, numpy=\n",
       " array([[ 2.88306922e-02, -7.06326589e-03, -2.30567660e-02,\n",
       "          4.51379530e-02, -1.35589913e-02, -6.11662725e-03,\n",
       "         -3.36016826e-02,  1.01344250e-01, -1.38181215e-02,\n",
       "         -3.77294682e-02],\n",
       "        [ 4.21369867e-03,  1.78059246e-02,  2.02127290e-03,\n",
       "         -5.26643470e-02,  1.04517601e-01,  4.74867225e-03,\n",
       "          1.14702322e-01,  5.13736270e-02, -5.37065184e-03,\n",
       "          4.94396761e-02],\n",
       "        [ 1.05247116e-02,  2.48661414e-02, -8.37049633e-03,\n",
       "          3.65854092e-02,  4.72134016e-02,  2.03308538e-02,\n",
       "          5.04075885e-02,  8.63540173e-02,  2.59892642e-02,\n",
       "          1.80388074e-02],\n",
       "        [-5.05788885e-02,  4.65226285e-02, -9.68653336e-02,\n",
       "         -2.24274639e-02,  6.78316364e-03, -7.60556534e-02,\n",
       "         -5.25060855e-02,  5.10579487e-03,  9.14865136e-02,\n",
       "         -5.58748357e-02],\n",
       "        [ 7.21585751e-03, -1.26002179e-02,  6.37668595e-02,\n",
       "          1.07887341e-02, -2.52763219e-02,  7.73788914e-02,\n",
       "          5.28580323e-02, -6.07145093e-02,  2.96530258e-02,\n",
       "         -1.79756470e-02],\n",
       "        [ 3.45318951e-02,  3.32620293e-02, -8.15028232e-03,\n",
       "         -3.43881808e-02, -3.49764489e-02,  7.30380267e-02,\n",
       "         -2.68758871e-02, -3.18146683e-02,  2.93587092e-02,\n",
       "         -3.00648226e-03],\n",
       "        [ 9.80317071e-02,  1.46175763e-02,  2.65565608e-02,\n",
       "          4.22009118e-02,  9.12850648e-02,  2.57471502e-02,\n",
       "         -4.95353751e-02, -6.84189722e-02,  2.76105255e-02,\n",
       "          3.59200463e-02],\n",
       "        [ 3.64395529e-02, -1.00685535e-02, -2.91529596e-02,\n",
       "          8.71309713e-02,  1.08113820e-02, -6.16160035e-02,\n",
       "         -3.84568051e-02, -3.76840644e-02, -7.39731714e-02,\n",
       "          4.09175381e-02],\n",
       "        [ 7.83295780e-02,  3.39055359e-02, -4.15229797e-02,\n",
       "          1.57300923e-02,  5.35090128e-03, -4.51080129e-02,\n",
       "          2.47378997e-03,  2.36049313e-02,  3.34240794e-02,\n",
       "          7.67868534e-02],\n",
       "        [-4.51368019e-02, -5.66440038e-02,  2.48068105e-02,\n",
       "         -1.57087091e-02, -2.43840329e-02, -6.76539391e-02,\n",
       "         -4.74276617e-02, -4.51566540e-02,  5.48350178e-02,\n",
       "          2.11859886e-02],\n",
       "        [ 5.67561947e-03,  1.90766864e-02,  2.27825418e-02,\n",
       "         -3.04733273e-02,  3.19863595e-02,  6.34480221e-03,\n",
       "          9.87517741e-03,  5.24547696e-02, -5.84742241e-02,\n",
       "          1.24486228e-02],\n",
       "        [-2.15630215e-02, -4.81466465e-02,  2.40607224e-02,\n",
       "         -9.83478650e-02,  3.46720703e-02, -7.27145979e-03,\n",
       "          2.34320480e-03, -4.83623147e-02, -5.75011177e-03,\n",
       "         -9.27885324e-02],\n",
       "        [ 8.58081412e-03,  2.19656155e-02, -1.66824795e-02,\n",
       "          4.02302407e-02, -8.57691988e-02,  6.83570132e-02,\n",
       "          9.00987245e-04, -7.44881406e-02, -3.15579139e-02,\n",
       "          2.30912417e-02],\n",
       "        [ 1.29896730e-01, -4.79211919e-02,  2.52513196e-02,\n",
       "         -1.55353053e-02,  4.93323691e-02,  7.97622278e-02,\n",
       "         -8.82634893e-02, -1.00894235e-02, -5.97424172e-02,\n",
       "         -6.97818724e-03],\n",
       "        [-1.38640944e-02,  2.68248897e-02,  4.18850444e-02,\n",
       "          8.58002808e-03,  6.06006943e-02, -2.31662113e-02,\n",
       "          3.38997482e-03, -7.22153229e-04, -4.88163792e-02,\n",
       "          7.72578567e-02],\n",
       "        [ 3.86208110e-03, -1.83831174e-02, -6.94265887e-02,\n",
       "         -2.77014319e-02,  2.75994670e-02, -2.32957732e-02,\n",
       "         -3.49517688e-02, -2.95885447e-02,  1.69369634e-02,\n",
       "         -1.32269440e-02],\n",
       "        [ 6.10312633e-02, -7.26112649e-02, -4.68275659e-02,\n",
       "          3.14563252e-02,  8.74280173e-04, -2.82624550e-02,\n",
       "         -5.24026714e-02,  4.00776751e-02,  4.45971452e-02,\n",
       "          4.57162671e-02],\n",
       "        [-1.20949093e-02,  1.75013728e-02,  2.96686329e-02,\n",
       "          9.12098661e-02,  2.04617139e-02, -2.28983834e-02,\n",
       "         -2.31086574e-02,  6.98179612e-03, -3.42877246e-02,\n",
       "         -1.89914647e-02],\n",
       "        [-5.47145866e-03, -1.32769784e-02, -3.23713347e-02,\n",
       "         -7.71985799e-02, -4.27323431e-02, -1.56540070e-02,\n",
       "          2.96210442e-02, -3.19345891e-02,  4.88979742e-02,\n",
       "         -5.69696687e-02],\n",
       "        [-3.45564149e-02,  3.92376492e-03,  2.19647158e-02,\n",
       "         -5.22838496e-02,  7.08941743e-02, -1.35620387e-04,\n",
       "          4.88735698e-02,  9.13331509e-02,  2.05693785e-02,\n",
       "          4.40696515e-02],\n",
       "        [-8.45759436e-02, -9.50569566e-03, -2.39587110e-02,\n",
       "          5.19951098e-02, -1.65273119e-02,  2.16518976e-02,\n",
       "         -6.94555044e-02, -9.96112637e-03,  5.83372172e-03,\n",
       "         -1.29135594e-01],\n",
       "        [ 3.32650654e-02, -4.29377072e-02, -3.88866626e-02,\n",
       "          6.62748143e-02,  9.27452296e-02,  2.02529002e-02,\n",
       "         -1.19174859e-02,  3.39151360e-02, -3.08390055e-02,\n",
       "          3.47926132e-02],\n",
       "        [-3.23053487e-02, -7.54628554e-02,  9.79918912e-02,\n",
       "          2.77813412e-02,  1.90598499e-02, -3.60772833e-02,\n",
       "          9.07786116e-02,  3.18001658e-02, -6.17969334e-02,\n",
       "          3.82480286e-02],\n",
       "        [ 1.05416467e-02,  3.87571007e-02,  7.17270747e-02,\n",
       "         -3.07648331e-02, -2.10973229e-02,  3.96584086e-02,\n",
       "          8.82898048e-02, -1.96835101e-02, -4.50685844e-02,\n",
       "         -1.61167327e-02],\n",
       "        [ 5.23141883e-02,  8.27078000e-02, -2.57094745e-02,\n",
       "         -6.90460065e-03, -1.42252594e-02, -3.88652086e-02,\n",
       "          2.70810723e-02,  1.78460162e-02, -8.25274736e-02,\n",
       "          2.96358648e-03],\n",
       "        [-6.62569702e-02,  1.83684174e-02, -3.38729694e-02,\n",
       "         -1.86634790e-02, -2.39431467e-02,  2.43335459e-02,\n",
       "         -9.91972536e-03,  4.54867445e-02, -4.35513742e-02,\n",
       "         -2.51703411e-02],\n",
       "        [ 7.21856877e-02,  2.48778965e-02,  6.60067275e-02,\n",
       "         -1.21374331e-01, -2.58817878e-02, -1.61686074e-02,\n",
       "          2.09500324e-02,  4.58697639e-02, -8.24235976e-02,\n",
       "         -1.20520666e-01],\n",
       "        [ 5.76098822e-02,  2.25035679e-02,  9.12247002e-02,\n",
       "         -2.81138420e-02,  7.00040758e-02, -2.02125553e-02,\n",
       "          6.06297925e-02, -1.45275537e-02, -8.74559861e-03,\n",
       "          7.17531890e-03],\n",
       "        [-6.55443445e-02,  5.69257401e-02, -9.86079350e-02,\n",
       "         -7.62198418e-02,  1.44718334e-01, -2.29443330e-02,\n",
       "          8.34031105e-02,  1.18100671e-02, -1.33863464e-02,\n",
       "          1.22826315e-01],\n",
       "        [ 6.63083000e-03, -6.18172288e-02, -9.38224315e-04,\n",
       "         -3.12855989e-02, -8.26134086e-02, -5.07001169e-02,\n",
       "         -6.45070896e-02,  6.15285225e-02, -4.50757444e-02,\n",
       "         -5.15926294e-02],\n",
       "        [ 5.95086478e-02, -2.03634449e-03,  1.10620692e-01,\n",
       "         -8.83721858e-02,  5.63235907e-03, -5.80912046e-02,\n",
       "         -6.37098849e-02,  2.42135990e-02, -2.00189780e-02,\n",
       "          1.47454860e-02],\n",
       "        [ 5.61378784e-02,  6.27653068e-03,  1.06341792e-02,\n",
       "          1.07323946e-02,  4.52220105e-02,  2.37152241e-02,\n",
       "          1.03765847e-02,  4.58653308e-02,  5.76738678e-02,\n",
       "         -2.13240292e-02]], dtype=float32)>,\n",
       " <tf.Variable 'mlp_4/linear_16/Variable:0' shape=(10,) dtype=float32, numpy=\n",
       " array([-0.01260013,  0.00837772, -0.04667534,  0.03386277, -0.01077366,\n",
       "         0.05237294, -0.07079814, -0.01908088,  0.03881595, -0.0651694 ],\n",
       "       dtype=float32)>]"
      ]
     },
     "execution_count": 96,
     "metadata": {},
     "output_type": "execute_result"
    }
   ],
   "source": [
    "mlp.weights"
   ]
  },
  {
   "cell_type": "markdown",
   "metadata": {},
   "source": [
    "## 增补内容：w*x + b 中的 +b 是在计算什么：是把b加到w*x的每一行上"
   ]
  },
  {
   "cell_type": "code",
   "execution_count": 82,
   "metadata": {},
   "outputs": [
    {
     "data": {
      "text/plain": [
       "(<tf.Tensor: id=26667, shape=(2, 2), dtype=float32, numpy=\n",
       " array([[1., 1.],\n",
       "        [1., 1.]], dtype=float32)>,\n",
       " <tf.Tensor: id=26672, shape=(2, 3), dtype=float32, numpy=\n",
       " array([[2., 2., 2.],\n",
       "        [2., 2., 2.]], dtype=float32)>)"
      ]
     },
     "execution_count": 82,
     "metadata": {},
     "output_type": "execute_result"
    }
   ],
   "source": [
    "x = tf.ones((2,2))\n",
    "y = 2*tf.ones((2,3))\n",
    "x, y"
   ]
  },
  {
   "cell_type": "code",
   "execution_count": 83,
   "metadata": {},
   "outputs": [
    {
     "data": {
      "text/plain": [
       "<tf.Tensor: id=26673, shape=(2, 3), dtype=float32, numpy=\n",
       "array([[4., 4., 4.],\n",
       "       [4., 4., 4.]], dtype=float32)>"
      ]
     },
     "execution_count": 83,
     "metadata": {},
     "output_type": "execute_result"
    }
   ],
   "source": [
    "tf.matmul(x,y)"
   ]
  },
  {
   "cell_type": "code",
   "execution_count": 87,
   "metadata": {},
   "outputs": [
    {
     "data": {
      "text/plain": [
       "<tf.Tensor: id=26690, shape=(3,), dtype=float32, numpy=array([5., 5., 5.], dtype=float32)>"
      ]
     },
     "execution_count": 87,
     "metadata": {},
     "output_type": "execute_result"
    }
   ],
   "source": [
    "b = 5*tf.ones((3,))\n",
    "b"
   ]
  },
  {
   "cell_type": "code",
   "execution_count": 88,
   "metadata": {},
   "outputs": [
    {
     "data": {
      "text/plain": [
       "<tf.Tensor: id=26692, shape=(2, 3), dtype=float32, numpy=\n",
       "array([[9., 9., 9.],\n",
       "       [9., 9., 9.]], dtype=float32)>"
      ]
     },
     "execution_count": 88,
     "metadata": {},
     "output_type": "execute_result"
    }
   ],
   "source": [
    "tf.matmul(x,y) + b"
   ]
  },
  {
   "cell_type": "markdown",
   "metadata": {},
   "source": [
    "## Built-in layers\n",
    "\n",
    "Keras provides you with a [wide range of built-in layers](https://www.tensorflow.org/api_docs/python/tf/keras/layers/), so that you don't have to implement your own layers all the time.\n",
    "\n",
    "- Convolution layers\n",
    "- Transposed convolutions\n",
    "- Separateable convolutions\n",
    "- Average and max pooling\n",
    "- Global average and max pooling\n",
    "- LSTM, GRU (with built-in cuDNN acceleration)\n",
    "- BatchNormalization\n",
    "- Dropout\n",
    "- Attention\n",
    "- ConvLSTM2D\n",
    "- etc.\n"
   ]
  },
  {
   "cell_type": "markdown",
   "metadata": {},
   "source": [
    "## 定义一个dropout层"
   ]
  },
  {
   "cell_type": "code",
   "execution_count": 97,
   "metadata": {},
   "outputs": [],
   "source": [
    "from tensorflow.keras.layers import Layer\n",
    "\n",
    "class Dropout(Layer):\n",
    "  \n",
    "    def __init__(self, rate):\n",
    "        super(Dropout, self).__init__()\n",
    "        self.rate = rate\n",
    "\n",
    "    def call(self, inputs, training=None):\n",
    "        if training:\n",
    "            return tf.nn.dropout(inputs, rate=self.rate)\n",
    "        return inputs\n",
    "\n",
    "class MLPWithDropout(Layer):\n",
    "\n",
    "    def __init__(self):\n",
    "        super(MLPWithDropout, self).__init__()\n",
    "        self.linear_1 = Linear(32)\n",
    "        self.dropout = Dropout(0.5)\n",
    "        self.linear_3 = Linear(10)\n",
    "\n",
    "    def call(self, inputs, training=None):\n",
    "        x = self.linear_1(inputs)\n",
    "        x = tf.nn.relu(x)\n",
    "        x = self.dropout(x, training=training)\n",
    "        return self.linear_3(x)\n",
    "    \n",
    "mlp = MLPWithDropout()\n",
    "y_train = mlp(tf.ones((2, 2)), training=True)\n",
    "y_test = mlp(tf.ones((2, 2)), training=False)"
   ]
  },
  {
   "cell_type": "markdown",
   "metadata": {},
   "source": [
    "## 定义一个Model"
   ]
  },
  {
   "cell_type": "code",
   "execution_count": 98,
   "metadata": {},
   "outputs": [],
   "source": [
    "inputs = tf.keras.Input(shape=(16,))  # 注意：(16,)是一个16列的行向量\n",
    "\n",
    "# We call layers on these \"type\" objects\n",
    "# and they return updated types (new shapes/dtypes).\n",
    "x = Linear(32)(inputs) # We are reusing the Linear layer we defined earlier.\n",
    "x = Dropout(0.5)(x) # We are reusing the Dropout layer we defined earlier.\n",
    "outputs = Linear(10)(x)\n",
    "model = tf.keras.Model(inputs, outputs)\n"
   ]
  },
  {
   "cell_type": "code",
   "execution_count": 100,
   "metadata": {
    "collapsed": true
   },
   "outputs": [
    {
     "data": {
      "text/plain": [
       "[<tf.Variable 'linear_19/Variable:0' shape=(16, 32) dtype=float32, numpy=\n",
       " array([[ 0.00218577, -0.03701009, -0.10432906, -0.05645252,  0.05031835,\n",
       "         -0.02105148,  0.01355803,  0.05277097,  0.04195168,  0.04592089,\n",
       "          0.0172874 , -0.08154076,  0.08586865,  0.06756014, -0.05486161,\n",
       "          0.02383436,  0.00534996,  0.04105695,  0.10587438, -0.00585277,\n",
       "         -0.03567847, -0.0364937 , -0.03503025, -0.00265143, -0.01643581,\n",
       "         -0.00535087,  0.04146907,  0.00535354, -0.00273738,  0.00300732,\n",
       "         -0.12624131, -0.07501354],\n",
       "        [-0.00389132, -0.00522809,  0.05939746, -0.06224765, -0.02423723,\n",
       "         -0.0520053 ,  0.04494813,  0.00720031, -0.07222005,  0.04442282,\n",
       "         -0.08372934, -0.07721596,  0.00728546, -0.0305245 ,  0.02494348,\n",
       "         -0.01743736, -0.06440338,  0.02960303,  0.01049494, -0.08539503,\n",
       "          0.0027434 , -0.01893519,  0.03521234, -0.04286091,  0.01278565,\n",
       "          0.03971664,  0.05229998, -0.08074907, -0.01103269, -0.03488981,\n",
       "          0.06285428, -0.07142588],\n",
       "        [ 0.00810666,  0.0194931 , -0.02201557, -0.07810759,  0.05130647,\n",
       "         -0.01650234,  0.0291193 , -0.00863251, -0.00657777,  0.079894  ,\n",
       "         -0.02953258,  0.04494023,  0.02573843,  0.06055243, -0.03276239,\n",
       "          0.04746329,  0.04914911,  0.01298355, -0.01639094, -0.04324143,\n",
       "         -0.02773339,  0.03095542, -0.02962861,  0.06090257,  0.05309258,\n",
       "         -0.04013756, -0.08576747,  0.02144706,  0.06798918,  0.04390587,\n",
       "          0.08519847,  0.01988934],\n",
       "        [-0.07943059,  0.0262883 ,  0.01693567,  0.00157878,  0.09768999,\n",
       "          0.00902805, -0.05300143,  0.09043343,  0.07283735,  0.05520871,\n",
       "         -0.02673781,  0.00228523, -0.06094192,  0.04715359, -0.01879819,\n",
       "          0.05386388,  0.05940319, -0.05822588,  0.01814646, -0.09261068,\n",
       "          0.04187045, -0.00556881, -0.0175391 ,  0.02174349,  0.03015805,\n",
       "          0.00962897, -0.0276352 ,  0.01839521,  0.04573015, -0.02370199,\n",
       "         -0.02032679, -0.06506371],\n",
       "        [-0.029115  ,  0.0698074 ,  0.02649099, -0.04532541, -0.03016623,\n",
       "         -0.00501566, -0.04230927,  0.04365464,  0.04323084,  0.08398422,\n",
       "         -0.01361038,  0.04716355,  0.04423311, -0.03453137, -0.08729696,\n",
       "         -0.02698215, -0.04488673, -0.03052119,  0.00341261,  0.08029414,\n",
       "         -0.02010854,  0.02655217, -0.00889762,  0.00836302, -0.00373158,\n",
       "          0.06618047, -0.0780319 ,  0.02292023,  0.01844597,  0.04163911,\n",
       "          0.01283319, -0.03407972],\n",
       "        [ 0.02131376,  0.03433455,  0.01062006, -0.03628192,  0.02925653,\n",
       "          0.07580056,  0.04592463,  0.07463055, -0.0255482 ,  0.07548146,\n",
       "          0.02824955,  0.02685445,  0.00110901,  0.0217518 , -0.02778088,\n",
       "          0.07591132, -0.03207914,  0.02396618, -0.06486314,  0.0977537 ,\n",
       "         -0.09399701, -0.10789404, -0.00740314,  0.0063351 , -0.0545324 ,\n",
       "          0.03887897,  0.07234459, -0.08626578, -0.00853999, -0.00727829,\n",
       "          0.00964612, -0.08192249],\n",
       "        [ 0.07307001, -0.08887047,  0.0439587 , -0.06996219, -0.05808409,\n",
       "          0.03132486,  0.05750925,  0.03270822,  0.01028288, -0.02882991,\n",
       "         -0.02921392, -0.00785716, -0.00291042, -0.0950208 ,  0.0129772 ,\n",
       "          0.0456467 ,  0.04393103,  0.02608439,  0.00499969, -0.002267  ,\n",
       "         -0.12366569, -0.02212951,  0.02512503, -0.0553396 ,  0.03648351,\n",
       "          0.00149971,  0.08444431, -0.0054269 , -0.03073499,  0.02690707,\n",
       "         -0.01819918,  0.00493882],\n",
       "        [ 0.03078789,  0.01851423,  0.03591154,  0.01752079, -0.04871006,\n",
       "          0.05613893, -0.04053554,  0.02864894,  0.00110801,  0.02523751,\n",
       "          0.01354792, -0.10101968, -0.09032424,  0.02374721, -0.0324118 ,\n",
       "          0.08496519, -0.02755657,  0.02538177,  0.03175085, -0.01070127,\n",
       "         -0.04537566, -0.01362965, -0.06709457,  0.08786688,  0.02667122,\n",
       "         -0.01118933,  0.0311461 ,  0.08582269,  0.08647572,  0.02130282,\n",
       "         -0.04470043, -0.0659676 ],\n",
       "        [-0.01339106,  0.03105606, -0.01423506,  0.02440582,  0.00978312,\n",
       "         -0.03380631,  0.0181252 , -0.06398318,  0.00624765,  0.01192994,\n",
       "         -0.12357092,  0.03435587,  0.08278965,  0.0063086 ,  0.00936301,\n",
       "          0.03269215,  0.06882155,  0.10578425,  0.03156056,  0.01140603,\n",
       "          0.15535246, -0.07856268,  0.0302873 ,  0.00448948, -0.05538864,\n",
       "          0.11947157,  0.06860659,  0.02011561, -0.06812252, -0.08379409,\n",
       "          0.06111628,  0.02665696],\n",
       "        [-0.07419492,  0.04598492,  0.02575732, -0.02544475, -0.02331495,\n",
       "          0.06390296,  0.06103696, -0.01249848, -0.05233621,  0.02514956,\n",
       "          0.07265029, -0.07763987,  0.03685179, -0.0090047 , -0.01357663,\n",
       "         -0.0243364 , -0.00072928, -0.0318788 , -0.00100302,  0.02387535,\n",
       "         -0.03185773, -0.00680787,  0.01415418, -0.0467093 , -0.02804935,\n",
       "         -0.09690601,  0.0987227 ,  0.04903066,  0.09853485,  0.12473942,\n",
       "         -0.02674672,  0.14952317],\n",
       "        [ 0.05611905, -0.00363018, -0.08295115, -0.06697907, -0.03301344,\n",
       "         -0.02729616, -0.02019408,  0.01498335, -0.012153  ,  0.04899698,\n",
       "          0.04842483, -0.03897468, -0.04377967,  0.05518376,  0.03246418,\n",
       "          0.01920347,  0.00842075, -0.07144981, -0.02123976, -0.08045854,\n",
       "         -0.04620701,  0.00265621, -0.01472843, -0.06147907,  0.06075864,\n",
       "          0.00832224, -0.01739385,  0.04227322, -0.04164118,  0.04889574,\n",
       "         -0.01573168,  0.02681763],\n",
       "        [ 0.0415143 , -0.093977  , -0.03187443, -0.00688294, -0.01200895,\n",
       "         -0.01149691, -0.01739354, -0.01711627,  0.01275829,  0.02806307,\n",
       "          0.05293956,  0.01372032, -0.00332685,  0.0164778 , -0.01058226,\n",
       "          0.01271278,  0.01276476, -0.01240531,  0.06014412, -0.01173092,\n",
       "          0.01215295,  0.00463491, -0.06364297,  0.06984121, -0.03452618,\n",
       "          0.03556771, -0.12476499, -0.03860277, -0.06453799, -0.06541865,\n",
       "          0.028548  , -0.0674241 ],\n",
       "        [ 0.00132536,  0.01604072,  0.05242013, -0.02540284,  0.04590015,\n",
       "         -0.06719416,  0.03523734,  0.05997775, -0.066648  ,  0.04669385,\n",
       "         -0.07438713, -0.01641162,  0.07366376,  0.02829102,  0.02125523,\n",
       "          0.01170602, -0.11668038,  0.04545647,  0.00970479,  0.06213763,\n",
       "         -0.0152764 , -0.06899574,  0.06757871, -0.09937286, -0.07161238,\n",
       "         -0.02132171, -0.00556929, -0.14059322, -0.10077379,  0.06648961,\n",
       "         -0.03215774, -0.02682388],\n",
       "        [ 0.07796725,  0.05491222,  0.01155701,  0.05987179,  0.00997385,\n",
       "         -0.01128633, -0.04453866, -0.02244925, -0.05459988, -0.10578571,\n",
       "          0.00582232, -0.03894496, -0.01408004,  0.0173172 , -0.01288024,\n",
       "         -0.00864102, -0.03703466, -0.09404654,  0.0064375 ,  0.02323877,\n",
       "         -0.09782492, -0.05093382, -0.04046561, -0.01383745,  0.0539678 ,\n",
       "          0.01789991, -0.04960008,  0.07269155,  0.08192353,  0.01953545,\n",
       "         -0.00925449, -0.00734422],\n",
       "        [-0.02476322,  0.06576698, -0.05503469,  0.04166591,  0.04604621,\n",
       "         -0.06267244, -0.05583926, -0.01504364, -0.00819616, -0.13633172,\n",
       "          0.02691662,  0.12444539, -0.07277261, -0.01468436, -0.08254432,\n",
       "          0.0829386 ,  0.09568158, -0.08478448,  0.01701782,  0.00635536,\n",
       "         -0.01779447, -0.01120266, -0.02472961, -0.01163346, -0.00627769,\n",
       "          0.06933801,  0.09368183, -0.03284783, -0.05838604,  0.05576416,\n",
       "          0.0515639 , -0.04840603],\n",
       "        [ 0.0913673 ,  0.0125276 ,  0.08528578,  0.00772344, -0.0634135 ,\n",
       "         -0.07895129,  0.03262701, -0.01837586,  0.06268431,  0.06347448,\n",
       "          0.0896337 , -0.01540786,  0.00743281,  0.01225619,  0.00112742,\n",
       "         -0.02453307, -0.00302744,  0.06467018, -0.09406973,  0.00928311,\n",
       "          0.06462502, -0.01149788, -0.02188139, -0.00085284, -0.04002375,\n",
       "         -0.0018602 ,  0.0331777 , -0.01362477, -0.01559219, -0.06259391,\n",
       "          0.03305761,  0.00459933]], dtype=float32)>,\n",
       " <tf.Variable 'linear_19/Variable:0' shape=(32,) dtype=float32, numpy=\n",
       " array([-0.11034378, -0.07471746,  0.02218802, -0.04946537, -0.14248942,\n",
       "         0.0016079 , -0.0092553 ,  0.02564942,  0.01761305, -0.01875428,\n",
       "         0.15640318, -0.0018181 ,  0.11306781,  0.07124383, -0.02837341,\n",
       "         0.01393521, -0.09617786, -0.05663898, -0.03934487,  0.04586017,\n",
       "        -0.02489046, -0.00970522,  0.01848562,  0.03978305,  0.04538975,\n",
       "        -0.00055395, -0.00892133,  0.03839371,  0.04895338, -0.01761426,\n",
       "        -0.03056517,  0.00972441], dtype=float32)>,\n",
       " <tf.Variable 'linear_20/Variable:0' shape=(32, 10) dtype=float32, numpy=\n",
       " array([[ 3.59488912e-02,  5.27771786e-02,  7.55716786e-02,\n",
       "          1.98940057e-02,  1.16080176e-02,  7.98459649e-02,\n",
       "         -5.24979793e-02, -8.58258530e-02,  1.68890990e-02,\n",
       "          3.57364230e-02],\n",
       "        [-5.46603873e-02, -3.19944369e-03, -3.50433141e-02,\n",
       "          8.36432502e-02, -4.28463854e-02, -2.59615127e-02,\n",
       "         -7.68942758e-02, -6.87547624e-02,  1.25852898e-01,\n",
       "          9.11392551e-03],\n",
       "        [-2.16137152e-02, -2.22088806e-02,  1.06921047e-02,\n",
       "         -6.30141124e-02,  6.47945628e-02,  1.24777993e-02,\n",
       "          5.84152415e-02, -5.73879741e-02,  6.66973218e-02,\n",
       "          5.24506383e-02],\n",
       "        [-8.22230242e-03,  1.79867409e-02,  1.39722822e-03,\n",
       "          8.32736026e-03,  4.80169518e-04,  1.94170736e-02,\n",
       "          1.17087141e-02, -4.11765426e-02, -2.34134570e-02,\n",
       "          3.62310372e-03],\n",
       "        [ 5.74819259e-02, -3.62316035e-02,  3.76249701e-02,\n",
       "          4.05360572e-02, -6.03427552e-02, -1.14728045e-02,\n",
       "          4.46358062e-02,  2.64789816e-02, -5.85380495e-02,\n",
       "         -5.86884506e-02],\n",
       "        [-8.37957934e-02,  1.77613422e-02,  1.95704610e-03,\n",
       "          7.06161186e-02,  1.09958285e-02,  3.00028007e-02,\n",
       "         -3.80040221e-02, -2.70425659e-02, -3.69824395e-02,\n",
       "         -2.91705853e-03],\n",
       "        [-3.87049094e-02, -2.28413045e-02,  3.18696350e-02,\n",
       "         -1.26047051e-02,  6.43598661e-02,  8.85960087e-02,\n",
       "          3.75522897e-02, -3.79205756e-02,  4.57437187e-02,\n",
       "         -3.12598199e-02],\n",
       "        [-1.11439684e-02,  2.93959826e-02, -6.84822127e-02,\n",
       "          8.11266061e-03, -5.17651439e-02,  4.77303900e-02,\n",
       "          4.03936692e-02,  1.71870701e-02, -3.02382894e-02,\n",
       "          2.71543469e-02],\n",
       "        [-2.25308202e-02,  4.94648367e-02, -5.93333878e-03,\n",
       "          4.26235236e-02, -2.82545332e-02, -6.99083209e-02,\n",
       "          2.11152751e-02,  2.90848445e-02,  5.15175164e-02,\n",
       "         -2.57915407e-02],\n",
       "        [ 3.31210420e-02,  7.17384741e-02,  5.16663603e-02,\n",
       "         -8.06969404e-02, -6.33112788e-02, -7.99500123e-02,\n",
       "         -6.44534156e-02, -3.27785574e-02,  2.50155088e-02,\n",
       "         -5.72901666e-02],\n",
       "        [ 7.42407367e-02, -2.95140501e-02,  1.91681075e-03,\n",
       "          3.97162028e-02, -1.47753824e-02,  3.21031325e-02,\n",
       "         -8.76446720e-03, -4.61634202e-03,  1.06679983e-02,\n",
       "         -9.32729896e-03],\n",
       "        [-2.78270524e-02,  8.53423681e-03,  9.59173217e-02,\n",
       "         -3.65938209e-02, -2.87952330e-02, -2.69718524e-02,\n",
       "         -4.77959812e-02,  6.19994514e-02, -3.63462418e-02,\n",
       "         -3.38017419e-02],\n",
       "        [ 7.43662491e-02,  5.61893880e-02,  2.81856279e-03,\n",
       "         -2.95679215e-02,  1.97333973e-02, -2.88667679e-02,\n",
       "         -8.48531052e-02, -6.07217662e-03,  3.95536497e-02,\n",
       "          3.33834589e-02],\n",
       "        [ 6.27924427e-02,  1.80141982e-02,  9.14017856e-02,\n",
       "          6.08319752e-02, -4.14489992e-02, -8.85202512e-02,\n",
       "          1.58285007e-01, -7.76146129e-02, -5.18816300e-02,\n",
       "          1.36336489e-02],\n",
       "        [-2.93386225e-02,  8.97468850e-02,  2.29558162e-02,\n",
       "          6.79305270e-02, -8.92543234e-03,  4.64126877e-02,\n",
       "         -4.04676348e-02, -3.75484936e-02,  6.91657624e-05,\n",
       "          8.20821226e-02],\n",
       "        [-1.04035929e-01,  5.81830088e-03,  2.20978702e-03,\n",
       "          1.27803788e-01, -1.25216097e-02,  4.51048743e-03,\n",
       "         -6.95052445e-02,  3.20211574e-02,  4.56706695e-02,\n",
       "          1.96206067e-02],\n",
       "        [-1.57921351e-02, -4.44585197e-02, -3.89152132e-02,\n",
       "         -8.20381567e-02,  4.72043976e-02,  3.03224511e-02,\n",
       "         -3.25015001e-02,  3.76731195e-02, -2.10631918e-02,\n",
       "         -3.64798494e-02],\n",
       "        [-5.99664263e-02, -4.05107550e-02,  1.12175100e-01,\n",
       "          3.11084446e-02,  6.10785596e-02,  4.39544842e-02,\n",
       "          3.98587249e-02,  5.78295998e-02,  7.51416236e-02,\n",
       "          7.63392299e-02],\n",
       "        [ 1.04719833e-01,  1.19604832e-02, -2.06374377e-02,\n",
       "         -7.25458190e-02, -1.94598213e-02, -9.54326242e-03,\n",
       "          2.91106459e-02, -2.31718607e-02,  5.68959378e-02,\n",
       "          4.44478504e-02],\n",
       "        [ 1.11332990e-01, -2.20061503e-02, -1.77409537e-02,\n",
       "         -3.14431861e-02,  3.56094092e-02,  1.47928819e-01,\n",
       "         -2.94298138e-02,  1.57696160e-03,  5.24476245e-02,\n",
       "          6.33439887e-03],\n",
       "        [ 1.15362480e-01,  6.94374694e-03, -7.80002996e-02,\n",
       "          4.13393602e-03,  7.73814172e-02,  6.75988495e-02,\n",
       "         -1.03860795e-01, -2.24562809e-02,  4.88781445e-02,\n",
       "         -1.38050383e-02],\n",
       "        [-7.98104033e-02, -5.52402809e-03, -5.06706126e-02,\n",
       "          2.86761858e-02, -2.95366682e-02,  1.05431201e-02,\n",
       "         -2.68130330e-03, -3.15289423e-02, -2.54766997e-02,\n",
       "         -2.19262782e-02],\n",
       "        [-4.19166051e-02,  2.37433016e-02, -6.18035309e-02,\n",
       "          2.39367634e-02, -2.96780765e-02,  7.51709864e-02,\n",
       "          7.14875087e-02,  4.58851568e-02, -3.52601446e-02,\n",
       "         -8.31977725e-02],\n",
       "        [-1.27191795e-02,  6.88352808e-02,  7.98517372e-03,\n",
       "         -2.75321342e-02,  4.73174565e-02,  4.68862578e-02,\n",
       "          8.16255435e-02, -3.87391150e-02, -2.22280864e-02,\n",
       "          2.40123197e-02],\n",
       "        [-6.92981556e-02, -2.59276982e-02, -2.30978034e-03,\n",
       "          1.81719568e-02, -3.13790962e-02,  5.51067851e-02,\n",
       "         -2.33716723e-02, -6.22307956e-02, -5.77833457e-03,\n",
       "          3.84896062e-02],\n",
       "        [-4.92442772e-02,  2.68774573e-02, -2.27954751e-03,\n",
       "         -1.10032288e-02, -1.18272208e-01,  3.74141634e-02,\n",
       "          3.13987583e-03, -5.52039817e-02,  3.63455676e-02,\n",
       "          2.51979865e-02],\n",
       "        [-3.06690224e-02,  4.58140150e-02,  1.18627725e-03,\n",
       "          1.08538717e-02,  1.62917748e-02,  1.58326030e-01,\n",
       "          9.80746374e-02, -8.44035670e-02,  6.76702708e-02,\n",
       "         -4.41827103e-02],\n",
       "        [-6.69497706e-04,  4.37073410e-03,  4.98078428e-02,\n",
       "          2.00340208e-02,  1.21245710e-02,  5.49785867e-02,\n",
       "          1.12940827e-02,  1.18202996e-02, -1.33123873e-02,\n",
       "         -1.22611281e-02],\n",
       "        [ 8.29644129e-03, -6.26474200e-03,  1.86598822e-02,\n",
       "         -1.51062673e-02,  7.37678260e-02,  1.11520246e-01,\n",
       "          3.30302841e-03, -2.46856268e-02,  1.13915065e-02,\n",
       "         -7.21547231e-02],\n",
       "        [ 5.32249920e-02, -3.05732470e-02, -7.70154297e-02,\n",
       "          8.23940337e-02, -4.24748473e-02, -1.19102187e-02,\n",
       "         -2.92692520e-02,  1.95632270e-03,  1.61826964e-02,\n",
       "         -2.71938089e-02],\n",
       "        [-1.30447140e-02, -5.93752554e-03, -2.83086542e-02,\n",
       "          2.94468850e-02,  6.59497231e-02,  4.04662304e-02,\n",
       "          1.20301843e-02, -6.39404505e-02,  2.78835092e-02,\n",
       "         -4.68237996e-02],\n",
       "        [ 3.01140151e-03, -1.66633334e-02, -1.33132504e-03,\n",
       "         -7.23521877e-03, -2.38338392e-03,  2.50045042e-02,\n",
       "          3.18333171e-02, -2.65933434e-03,  9.69099179e-02,\n",
       "         -5.98612688e-02]], dtype=float32)>,\n",
       " <tf.Variable 'linear_20/Variable:0' shape=(10,) dtype=float32, numpy=\n",
       " array([-0.00365528, -0.06060514, -0.00028411,  0.00951784,  0.0531944 ,\n",
       "         0.06800099, -0.03222844,  0.02748191, -0.01879152, -0.01014875],\n",
       "       dtype=float32)>]"
      ]
     },
     "execution_count": 100,
     "metadata": {},
     "output_type": "execute_result"
    }
   ],
   "source": [
    "model.weights"
   ]
  },
  {
   "cell_type": "code",
   "execution_count": 105,
   "metadata": {
    "scrolled": true
   },
   "outputs": [
    {
     "data": {
      "text/plain": [
       "<tf.Tensor: id=27069, shape=(4, 10), dtype=float32, numpy=\n",
       "array([[ 0.02614958, -0.03532938,  0.03308292,  0.01870433, -0.02205275,\n",
       "         0.01757236, -0.01296465, -0.01308418,  0.03827766,  0.01811892],\n",
       "       [ 0.02614958, -0.03532938,  0.03308292,  0.01870433, -0.02205275,\n",
       "         0.01757236, -0.01296465, -0.01308418,  0.03827766,  0.01811892],\n",
       "       [ 0.02614958, -0.03532938,  0.03308292,  0.01870433, -0.02205275,\n",
       "         0.01757236, -0.01296465, -0.01308418,  0.03827766,  0.01811892],\n",
       "       [ 0.02614958, -0.03532938,  0.03308292,  0.01870433, -0.02205275,\n",
       "         0.01757236, -0.01296465, -0.01308418,  0.03827766,  0.01811892]],\n",
       "      dtype=float32)>"
      ]
     },
     "execution_count": 105,
     "metadata": {},
     "output_type": "execute_result"
    }
   ],
   "source": [
    "y = model(tf.ones((4, 16)))\n",
    "y"
   ]
  },
  {
   "cell_type": "markdown",
   "metadata": {},
   "source": [
    "### 换成 Sequential 来定义模型"
   ]
  },
  {
   "cell_type": "code",
   "execution_count": 116,
   "metadata": {},
   "outputs": [],
   "source": [
    "from tensorflow.keras import Sequential\n",
    "\n",
    "model = Sequential([Linear(32), Dropout(0.5), Linear(10)])"
   ]
  },
  {
   "cell_type": "code",
   "execution_count": 117,
   "metadata": {},
   "outputs": [],
   "source": [
    "y = model(tf.ones((2, 16)))\n",
    "assert y.shape == (2, 10)"
   ]
  },
  {
   "cell_type": "markdown",
   "metadata": {},
   "source": [
    "## Loss classes"
   ]
  },
  {
   "cell_type": "code",
   "execution_count": 118,
   "metadata": {},
   "outputs": [
    {
     "name": "stdout",
     "output_type": "stream",
     "text": [
      "Loss: 11.522857\n"
     ]
    }
   ],
   "source": [
    "bce = tf.keras.losses.BinaryCrossentropy()\n",
    "y_true = [0., 0., 1., 1.]  # Targets\n",
    "y_pred = [1., 1., 1., 0.]  # Predictions\n",
    "loss = bce(y_true, y_pred)\n",
    "print('Loss:', loss.numpy())"
   ]
  },
  {
   "cell_type": "code",
   "execution_count": 142,
   "metadata": {},
   "outputs": [
    {
     "name": "stdout",
     "output_type": "stream",
     "text": [
      "Loss: 15.333239\n"
     ]
    }
   ],
   "source": [
    "bce = tf.keras.losses.BinaryCrossentropy()\n",
    "y_true = [0.]  # Targets\n",
    "y_pred = [1.]  # Predictions\n",
    "loss = bce(y_true, y_pred)\n",
    "print('Loss:', loss.numpy())"
   ]
  },
  {
   "cell_type": "markdown",
   "metadata": {},
   "source": [
    "## Metric classes\n",
    "\n",
    "Keras also features a wide range of built-in metric classes, such as `BinaryAccuracy`, `AUC`, `FalsePositives`, etc.\n",
    "\n",
    "Unlike losses, metrics are stateful. You update their state using the `update_state` method, and you query the scalar metric result using `result`:"
   ]
  },
  {
   "cell_type": "code",
   "execution_count": 149,
   "metadata": {},
   "outputs": [
    {
     "name": "stdout",
     "output_type": "stream",
     "text": [
      "Intermediate result: 0.6666667\n",
      "Final result: 0.71428573\n"
     ]
    }
   ],
   "source": [
    "m = tf.keras.metrics.AUC()\n",
    "m.update_state([0, 1, 1, 1], [0, 1, 0, 0])\n",
    "print('Intermediate result:', m.result().numpy())\n",
    "\n",
    "m.update_state([1, 1, 1, 1], [0, 1, 1, 0])\n",
    "print('Final result:', m.result().numpy())"
   ]
  },
  {
   "cell_type": "markdown",
   "metadata": {},
   "source": [
    "## Here's a simple MNSIT example that brings together loss classes, metric classes, and optimizers."
   ]
  },
  {
   "cell_type": "code",
   "execution_count": 150,
   "metadata": {},
   "outputs": [
    {
     "name": "stdout",
     "output_type": "stream",
     "text": [
      "Downloading data from https://storage.googleapis.com/tensorflow/tf-keras-datasets/mnist.npz\n",
      "11493376/11490434 [==============================] - 72s 6us/step\n"
     ]
    }
   ],
   "source": [
    "from tensorflow.keras import layers\n",
    "\n",
    "# Prepare a dataset.\n",
    "(x_train, y_train), (x_test, y_test) = tf.keras.datasets.mnist.load_data()"
   ]
  },
  {
   "cell_type": "code",
   "execution_count": 151,
   "metadata": {},
   "outputs": [],
   "source": [
    "x_train = x_train[:].reshape(60000, 784).astype('float32') / 255\n",
    "dataset = tf.data.Dataset.from_tensor_slices((x_train, y_train))\n",
    "dataset = dataset.shuffle(buffer_size=1024).batch(64)"
   ]
  },
  {
   "cell_type": "code",
   "execution_count": 154,
   "metadata": {},
   "outputs": [],
   "source": [
    "model = tf.keras.Sequential([\n",
    "  layers.Dense(256, activation=tf.nn.relu),\n",
    "  layers.Dense(256, activation=tf.nn.relu),\n",
    "  layers.Dense(10)\n",
    "])"
   ]
  },
  {
   "cell_type": "markdown",
   "metadata": {},
   "source": [
    "## Optimizer classes & a quick end-to-end training loop\n",
    "\n",
    "You don't normally have to define by hand how to update your variables during gradient descent, like we did in our initial linear regression example. You would usually use one of the built-in Keras optimizer, like `SGD`, `RMSprop`, or `Adam`.\n",
    "\n",
    "Here's a simple MNSIT example that brings together loss classes, metric classes, and optimizers."
   ]
  },
  {
   "cell_type": "code",
   "execution_count": 156,
   "metadata": {},
   "outputs": [],
   "source": [
    "# Instantiate a logistic loss function that expects integer targets.\n",
    "loss = tf.keras.losses.SparseCategoricalCrossentropy(from_logits=True)\n",
    "\n",
    "# Instantiate an accuracy metric.\n",
    "accuracy = tf.keras.metrics.SparseCategoricalAccuracy()\n",
    "\n",
    "# Instantiate an optimizer.\n",
    "optimizer = tf.keras.optimizers.Adam()"
   ]
  },
  {
   "cell_type": "code",
   "execution_count": 158,
   "metadata": {},
   "outputs": [
    {
     "name": "stdout",
     "output_type": "stream",
     "text": [
      "tf.Tensor(\n",
      "[[0. 0. 0. ... 0. 0. 0.]\n",
      " [0. 0. 0. ... 0. 0. 0.]\n",
      " [0. 0. 0. ... 0. 0. 0.]\n",
      " ...\n",
      " [0. 0. 0. ... 0. 0. 0.]\n",
      " [0. 0. 0. ... 0. 0. 0.]\n",
      " [0. 0. 0. ... 0. 0. 0.]], shape=(64, 784), dtype=float32)\n",
      "tf.Tensor(\n",
      "[2 6 2 1 0 4 4 7 7 3 2 1 7 4 0 1 9 6 9 8 9 5 2 1 0 9 3 6 5 6 6 7 5 9 3 6 0\n",
      " 9 3 1 4 2 7 5 0 5 5 4 9 8 2 0 9 7 1 1 9 0 0 6 1 0 0 5], shape=(64,), dtype=uint8)\n"
     ]
    }
   ],
   "source": [
    "for (x,y) in dataset:\n",
    "    print(x)\n",
    "    print(y)\n",
    "    break"
   ]
  },
  {
   "cell_type": "code",
   "execution_count": 159,
   "metadata": {
    "scrolled": true
   },
   "outputs": [
    {
     "name": "stdout",
     "output_type": "stream",
     "text": [
      "Step: 0\n",
      "Loss from last step: 2.416\n",
      "Total running accuracy so far: 0.031\n",
      "Step: 100\n",
      "Loss from last step: 0.169\n",
      "Total running accuracy so far: 0.834\n",
      "Step: 200\n",
      "Loss from last step: 0.316\n",
      "Total running accuracy so far: 0.876\n",
      "Step: 300\n",
      "Loss from last step: 0.271\n",
      "Total running accuracy so far: 0.895\n",
      "Step: 400\n",
      "Loss from last step: 0.179\n",
      "Total running accuracy so far: 0.907\n",
      "Step: 500\n",
      "Loss from last step: 0.202\n",
      "Total running accuracy so far: 0.915\n",
      "Step: 600\n",
      "Loss from last step: 0.069\n",
      "Total running accuracy so far: 0.922\n",
      "Step: 700\n",
      "Loss from last step: 0.230\n",
      "Total running accuracy so far: 0.926\n",
      "Step: 800\n",
      "Loss from last step: 0.045\n",
      "Total running accuracy so far: 0.930\n",
      "Step: 900\n",
      "Loss from last step: 0.026\n",
      "Total running accuracy so far: 0.934\n"
     ]
    }
   ],
   "source": [
    "for step, (x, y) in enumerate(dataset):\n",
    "  # Open a GradientTape.\n",
    "    with tf.GradientTape() as tape:\n",
    "        # Forward pass.\n",
    "        logits = model(x)\n",
    "        loss_value = loss(y, logits)\n",
    "    # Get gradients of loss wrt the weights.\n",
    "    gradients = tape.gradient(loss_value, model.trainable_weights)\n",
    "    # Update the weights of our linear layer.\n",
    "    optimizer.apply_gradients(zip(gradients, model.trainable_weights))\n",
    "    # Update the running accuracy.\n",
    "    accuracy.update_state(y, logits)\n",
    "    # Logging.\n",
    "    if step % 100 == 0:\n",
    "        print('Step:', step)\n",
    "        print('Loss from last step: %.3f' % loss_value)\n",
    "        print('Total running accuracy so far: %.3f' % accuracy.result())"
   ]
  },
  {
   "cell_type": "markdown",
   "metadata": {},
   "source": [
    "## 用上面的模型做预测"
   ]
  },
  {
   "cell_type": "code",
   "execution_count": null,
   "metadata": {},
   "outputs": [],
   "source": [
    "x_test = x_test[:].reshape(10000, 784).astype('float32') / 255\n",
    "test_dataset = tf.data.Dataset.from_tensor_slices((x_test, y_test))\n",
    "test_dataset = test_dataset.batch(128)\n",
    "\n",
    "accuracy.reset_states()  # This clears the internal state of the metric\n",
    "\n",
    "for step, (x, y) in enumerate(test_dataset):\n",
    "    logits = model(x)\n",
    "    accuracy.update_state(y, logits)\n",
    "\n",
    "print('Final test accuracy: %.3f' % accuracy.result())"
   ]
  },
  {
   "cell_type": "code",
   "execution_count": null,
   "metadata": {},
   "outputs": [],
   "source": []
  },
  {
   "cell_type": "code",
   "execution_count": null,
   "metadata": {},
   "outputs": [],
   "source": []
  },
  {
   "cell_type": "code",
   "execution_count": null,
   "metadata": {},
   "outputs": [],
   "source": []
  }
 ],
 "metadata": {
  "kernelspec": {
   "display_name": "Python 3",
   "language": "python",
   "name": "python3"
  },
  "language_info": {
   "codemirror_mode": {
    "name": "ipython",
    "version": 3
   },
   "file_extension": ".py",
   "mimetype": "text/x-python",
   "name": "python",
   "nbconvert_exporter": "python",
   "pygments_lexer": "ipython3",
   "version": "3.6.5"
  }
 },
 "nbformat": 4,
 "nbformat_minor": 2
}
