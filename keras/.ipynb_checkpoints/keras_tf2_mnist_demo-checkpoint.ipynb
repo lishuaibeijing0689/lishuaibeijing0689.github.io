{
 "cells": [
  {
   "cell_type": "code",
   "execution_count": 1,
   "metadata": {},
   "outputs": [
    {
     "data": {
      "text/plain": [
       "'\\nMNIST做分类的Demo\\n'"
      ]
     },
     "execution_count": 1,
     "metadata": {},
     "output_type": "execute_result"
    }
   ],
   "source": [
    "\"\"\"\n",
    "MNIST做分类的Demo\n",
    "\"\"\""
   ]
  },
  {
   "cell_type": "code",
   "execution_count": 2,
   "metadata": {},
   "outputs": [
    {
     "name": "stdout",
     "output_type": "stream",
     "text": [
      "2.0.0\n"
     ]
    }
   ],
   "source": [
    "import tensorflow as tf\n",
    "\n",
    "print(tf.__version__)"
   ]
  },
  {
   "cell_type": "code",
   "execution_count": 46,
   "metadata": {},
   "outputs": [],
   "source": [
    "# Prepare a dataset.\n",
    "(x_train, y_train), (x_test, y_test) = tf.keras.datasets.mnist.load_data()"
   ]
  },
  {
   "cell_type": "code",
   "execution_count": 47,
   "metadata": {},
   "outputs": [],
   "source": [
    "x_train = x_train[:].reshape(60000, 784).astype('float32') / 255"
   ]
  },
  {
   "cell_type": "code",
   "execution_count": 48,
   "metadata": {},
   "outputs": [
    {
     "data": {
      "text/plain": [
       "[15154, 52267, 49307, 51960, 53758]"
      ]
     },
     "execution_count": 48,
     "metadata": {},
     "output_type": "execute_result"
    }
   ],
   "source": [
    "n = x_train.shape[0]\n",
    "ind = list(range(n))\n",
    "np.random.shuffle(ind)\n",
    "ind[:5]"
   ]
  },
  {
   "cell_type": "code",
   "execution_count": 49,
   "metadata": {},
   "outputs": [],
   "source": [
    "x_train = x_train[ind]\n",
    "y_train = y_train[ind]"
   ]
  },
  {
   "cell_type": "code",
   "execution_count": 50,
   "metadata": {},
   "outputs": [],
   "source": [
    "from tensorflow.keras import layers"
   ]
  },
  {
   "cell_type": "code",
   "execution_count": 51,
   "metadata": {},
   "outputs": [],
   "source": [
    "model = tf.keras.Sequential()"
   ]
  },
  {
   "cell_type": "code",
   "execution_count": 52,
   "metadata": {},
   "outputs": [],
   "source": [
    "model.add(layers.Dense(units=64, activation=\"relu\"))\n",
    "model.add(layers.Dense(units=10))"
   ]
  },
  {
   "cell_type": "code",
   "execution_count": 53,
   "metadata": {},
   "outputs": [],
   "source": [
    "loss = tf.keras.losses.SparseCategoricalCrossentropy(from_logits=True)\n",
    "\n",
    "# Instantiate an accuracy metric.\n",
    "accuracy = tf.keras.metrics.SparseCategoricalAccuracy()\n",
    "\n",
    "# Instantiate an optimizer.\n",
    "optimizer = tf.keras.optimizers.Adam()"
   ]
  },
  {
   "cell_type": "code",
   "execution_count": 54,
   "metadata": {},
   "outputs": [],
   "source": [
    "model.compile(loss=loss, optimizer=optimizer, metrics=[accuracy])"
   ]
  },
  {
   "cell_type": "code",
   "execution_count": 55,
   "metadata": {
    "scrolled": true
   },
   "outputs": [
    {
     "name": "stdout",
     "output_type": "stream",
     "text": [
      "Train on 60000 samples\n",
      "Epoch 1/5\n",
      "60000/60000 [==============================] - 2s 34us/sample - loss: 0.3494 - sparse_categorical_accuracy: 0.9038\n",
      "Epoch 2/5\n",
      "60000/60000 [==============================] - 2s 25us/sample - loss: 0.1720 - sparse_categorical_accuracy: 0.9504\n",
      "Epoch 3/5\n",
      "60000/60000 [==============================] - 1s 25us/sample - loss: 0.1281 - sparse_categorical_accuracy: 0.9626\n",
      "Epoch 4/5\n",
      "60000/60000 [==============================] - 1s 25us/sample - loss: 0.1038 - sparse_categorical_accuracy: 0.9694\n",
      "Epoch 5/5\n",
      "60000/60000 [==============================] - 2s 25us/sample - loss: 0.0860 - sparse_categorical_accuracy: 0.9750\n"
     ]
    },
    {
     "data": {
      "text/plain": [
       "<tensorflow.python.keras.callbacks.History at 0xb332ca4a8>"
      ]
     },
     "execution_count": 55,
     "metadata": {},
     "output_type": "execute_result"
    }
   ],
   "source": [
    "model.fit(x=x_train, y=y_train, batch_size=64, epochs=5)"
   ]
  },
  {
   "cell_type": "markdown",
   "metadata": {},
   "source": [
    "## 加入验证集 和 callback"
   ]
  },
  {
   "cell_type": "code",
   "execution_count": 56,
   "metadata": {},
   "outputs": [],
   "source": [
    "val_sample_num = 10000\n",
    "\n",
    "x_val = x_train[-val_sample_num:]\n",
    "y_val = y_train[-val_sample_num:]\n",
    "x_train = x_train[:val_sample_num]\n",
    "y_train = y_train[:val_sample_num]"
   ]
  },
  {
   "cell_type": "code",
   "execution_count": 57,
   "metadata": {},
   "outputs": [],
   "source": [
    "callbacks = [tf.keras.callbacks.EarlyStopping(patience=3),\n",
    "             tf.keras.callbacks.ModelCheckpoint(filepath='my_model.keras',\n",
    "                                                save_best_only=True)]"
   ]
  },
  {
   "cell_type": "code",
   "execution_count": 58,
   "metadata": {},
   "outputs": [
    {
     "name": "stdout",
     "output_type": "stream",
     "text": [
      "Train on 10000 samples, validate on 10000 samples\n",
      "Epoch 1/20\n",
      "10000/10000 [==============================] - 1s 55us/sample - loss: 0.0754 - sparse_categorical_accuracy: 0.9780 - val_loss: 0.0727 - val_sparse_categorical_accuracy: 0.9784\n",
      "Epoch 2/20\n",
      "10000/10000 [==============================] - 0s 45us/sample - loss: 0.0577 - sparse_categorical_accuracy: 0.9842 - val_loss: 0.0709 - val_sparse_categorical_accuracy: 0.9780\n",
      "Epoch 3/20\n",
      "10000/10000 [==============================] - 0s 46us/sample - loss: 0.0475 - sparse_categorical_accuracy: 0.9879 - val_loss: 0.0703 - val_sparse_categorical_accuracy: 0.9782\n",
      "Epoch 4/20\n",
      "10000/10000 [==============================] - 0s 45us/sample - loss: 0.0391 - sparse_categorical_accuracy: 0.9915 - val_loss: 0.0734 - val_sparse_categorical_accuracy: 0.9778\n",
      "Epoch 5/20\n",
      "10000/10000 [==============================] - 0s 44us/sample - loss: 0.0338 - sparse_categorical_accuracy: 0.9926 - val_loss: 0.0802 - val_sparse_categorical_accuracy: 0.9756\n",
      "Epoch 6/20\n",
      "10000/10000 [==============================] - 0s 44us/sample - loss: 0.0302 - sparse_categorical_accuracy: 0.9945 - val_loss: 0.0728 - val_sparse_categorical_accuracy: 0.9770\n"
     ]
    },
    {
     "data": {
      "text/plain": [
       "<tensorflow.python.keras.callbacks.History at 0xb336241d0>"
      ]
     },
     "execution_count": 58,
     "metadata": {},
     "output_type": "execute_result"
    }
   ],
   "source": [
    "model.fit(x=x_train, y=y_train, batch_size=64, epochs=20, callbacks=callbacks, validation_data=(x_val, y_val))"
   ]
  },
  {
   "cell_type": "code",
   "execution_count": null,
   "metadata": {},
   "outputs": [],
   "source": []
  }
 ],
 "metadata": {
  "kernelspec": {
   "display_name": "Python 3",
   "language": "python",
   "name": "python3"
  },
  "language_info": {
   "codemirror_mode": {
    "name": "ipython",
    "version": 3
   },
   "file_extension": ".py",
   "mimetype": "text/x-python",
   "name": "python",
   "nbconvert_exporter": "python",
   "pygments_lexer": "ipython3",
   "version": "3.6.5"
  }
 },
 "nbformat": 4,
 "nbformat_minor": 2
}
