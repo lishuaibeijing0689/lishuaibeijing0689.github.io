{
 "cells": [
  {
   "cell_type": "code",
   "execution_count": null,
   "metadata": {},
   "outputs": [],
   "source": [
    "\"\"\"\n",
    "yield用法\n",
    "\"\"\""
   ]
  },
  {
   "cell_type": "code",
   "execution_count": 5,
   "metadata": {},
   "outputs": [],
   "source": [
    "def test(n):\n",
    "    for i in range(n):\n",
    "        yield i * 2\n",
    "        print(\"in:\", i)\n",
    "    print(\"*\" * 3)"
   ]
  },
  {
   "cell_type": "code",
   "execution_count": 6,
   "metadata": {},
   "outputs": [
    {
     "name": "stdout",
     "output_type": "stream",
     "text": [
      "out: 0\n",
      "in: 0\n",
      "out: 2\n",
      "in: 1\n",
      "out: 4\n",
      "in: 2\n",
      "out: 6\n",
      "in: 3\n",
      "out: 8\n",
      "in: 4\n",
      "***\n"
     ]
    }
   ],
   "source": [
    "for i in test(5):\n",
    "    print(\"out: %d\" % i)"
   ]
  },
  {
   "cell_type": "code",
   "execution_count": null,
   "metadata": {},
   "outputs": [],
   "source": []
  }
 ],
 "metadata": {
  "kernelspec": {
   "display_name": "Python 3",
   "language": "python",
   "name": "python3"
  },
  "language_info": {
   "codemirror_mode": {
    "name": "ipython",
    "version": 3
   },
   "file_extension": ".py",
   "mimetype": "text/x-python",
   "name": "python",
   "nbconvert_exporter": "python",
   "pygments_lexer": "ipython3",
   "version": "3.6.5"
  }
 },
 "nbformat": 4,
 "nbformat_minor": 2
}
